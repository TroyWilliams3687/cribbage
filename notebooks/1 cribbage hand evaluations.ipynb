{
 "cells": [
  {
   "cell_type": "markdown",
   "metadata": {},
   "source": [
    "# Cribbage Analysis\n",
    "\n",
    "This notebook is designed to display different analysis or algorithms"
   ]
  },
  {
   "cell_type": "markdown",
   "metadata": {
    "collapsed": true
   },
   "source": [
    "# TODO\n",
    "\n",
    "Build a simulator to evaluate different strategies <- 2016-08-22\n",
    "    - https://pymotw.com/3/random/\n",
    "\n",
    "\n",
    "TODO:\n",
    "- Create a method that can take my manual inputs and score the cards - 4 cards + cut\n",
    "- See if I can figure out the optimal discard code\n",
    "- https://github.com/erbaker/Cribalyzer <- another repo to look at\n",
    "- https://github.com/bruggsy/Cribbage \n",
    "- https://github.com/ptoale/cribbage\n",
    "- https://github.com/paulashbourne/python-cribbage\n"
   ]
  },
  {
   "cell_type": "code",
   "execution_count": 1,
   "metadata": {
    "ExecuteTime": {
     "end_time": "2018-07-01T15:08:59.281461Z",
     "start_time": "2018-07-01T15:08:59.261511Z"
    }
   },
   "outputs": [
    {
     "data": {
      "application/javascript": [
       "//Disable autoscroll in the output cells\n",
       "IPython.OutputArea.prototype._should_scroll = function(lines) {\n",
       "    return false;\n",
       "}"
      ],
      "text/plain": [
       "<IPython.core.display.Javascript object>"
      ]
     },
     "metadata": {},
     "output_type": "display_data"
    }
   ],
   "source": [
    "%%javascript\n",
    "//Disable autoscroll in the output cells\n",
    "IPython.OutputArea.prototype._should_scroll = function(lines) {\n",
    "    return false;\n",
    "}"
   ]
  },
  {
   "cell_type": "code",
   "execution_count": 2,
   "metadata": {
    "ExecuteTime": {
     "end_time": "2018-07-01T15:08:59.360708Z",
     "start_time": "2018-07-01T15:08:59.284038Z"
    }
   },
   "outputs": [],
   "source": [
    "import random\n",
    "from cribbage import Card, Hand,score_hand, display_points, make_deck"
   ]
  },
  {
   "cell_type": "code",
   "execution_count": 3,
   "metadata": {
    "ExecuteTime": {
     "end_time": "2018-07-01T15:08:59.439879Z",
     "start_time": "2018-07-01T15:08:59.364938Z"
    }
   },
   "outputs": [
    {
     "name": "stdout",
     "output_type": "stream",
     "text": [
      "Hand      = 2♣,3♥,4♠,8♥\n",
      "Cut       = 9♣\n",
      "\n",
      "2 Fifteens for 4\n",
      "0 Pairs for    0\n",
      "1 Runs for     3\n",
      "Flush for      0\n",
      "Nobs for       0\n",
      "-----------------\n",
      "Total          7\n",
      "\n",
      "Fifteens====\n",
      "3♥, 8♥, 4♠ = 15\n",
      "2♣, 4♠, 9♣ = 15\n",
      "\n",
      "Pairs====\n",
      "\n",
      "Runs====\n",
      "2♣, 3♥, 4♠\n"
     ]
    }
   ],
   "source": [
    "deck = make_deck()\n",
    "m = random.sample(deck, 5)\n",
    "hand = Hand(m[:4])\n",
    "cut = m[-1]\n",
    "\n",
    "scores, counts = score_hand(hand, cut)\n",
    "display_points(hand, cut, scores, counts)"
   ]
  },
  {
   "cell_type": "markdown",
   "metadata": {},
   "source": [
    "# List all Combinations Higher than 25\n",
    "\n",
    "There are a lot! **NOTE: It will miss some permutations that lead to 29 point hands because the jack doesn't match the cut card or the jack is the cut card**"
   ]
  },
  {
   "cell_type": "code",
   "execution_count": 4,
   "metadata": {
    "ExecuteTime": {
     "end_time": "2018-07-01T15:08:59.541047Z",
     "start_time": "2018-07-01T15:08:59.442923Z"
    }
   },
   "outputs": [],
   "source": [
    "# %%time\n",
    "\n",
    "# # The problem is that the hand and the cut card are different for scoring purposes...\n",
    "# # 5D, 5H, 5C, JD and 5S as a hand, it would be a 29 point hand of the 5D were the cut card.\n",
    "\n",
    "# from collections import Counter\n",
    "\n",
    "# s = set([Card('J','D'), Card('5', 'H'), Card('5', 'S'), Card('5', 'C'), Card('5','D')])\n",
    "\n",
    "# c = Counter()\n",
    "# really_good_hands = []\n",
    "\n",
    "# for combo in combinations(deck, 5):\n",
    "#     hand = Hand(combo[:4]).sorted()\n",
    "#     cut = combo[-1]\n",
    "#     scores, counts = score_hand(hand, cut)\n",
    "#     score = sum([v for k,v in scores.items()])\n",
    "#     c[score] += 1\n",
    "      \n",
    "#     if s == set(Hand(hand + [cut])):\n",
    "#         print('29 point hand = {} cut = {} => {}'.format(','.join(hand.cool_display()), cut.cool_display, sum([v for k,v in scores.items()])))\n",
    "        \n",
    "    \n",
    "#     if score >= 25:\n",
    "#         really_good_hands.append((hand, cut))\n",
    "# #         print('Hand: {}; {} => {}'.format(','.join(hand.sorted().cool_display()), cut.cool_display, score))    \n",
    "\n",
    "# print(c)\n",
    "# print()\n",
    "\n",
    "# for h in really_good_hands:\n",
    "#     hand = h[0]\n",
    "#     cut = h[1]\n",
    "#     scores, counts = score_hand(hand, cut)\n",
    "#     print('Hand = {}; Cut = {} => {}'.format(hand.cool_display(), cut.cool_display, sum([v for k,v in scores.items()])))\n",
    "#     display_points(hand, cut, scores, counts)\n",
    "#     print()"
   ]
  },
  {
   "cell_type": "markdown",
   "metadata": {},
   "source": [
    "# Determine 29 Point Hands "
   ]
  },
  {
   "cell_type": "code",
   "execution_count": 5,
   "metadata": {
    "ExecuteTime": {
     "end_time": "2018-07-01T15:08:59.658071Z",
     "start_time": "2018-07-01T15:08:59.544826Z"
    }
   },
   "outputs": [],
   "source": [
    "def make_special_deck():\n",
    "    \"\"\" \n",
    "    creates a deck consisting of only 5's and Jacks\n",
    "    \"\"\"\n",
    "    \n",
    "    ranks = ['5','J']\n",
    "    suits = ['D','H','C','S']\n",
    "    cards = []\n",
    "\n",
    "    for suit in suits:\n",
    "        for rank in ranks:\n",
    "            cards.append(Card(rank, suit))\n",
    "\n",
    "    return cards"
   ]
  },
  {
   "cell_type": "code",
   "execution_count": 6,
   "metadata": {
    "ExecuteTime": {
     "end_time": "2018-07-01T15:08:59.776138Z",
     "start_time": "2018-07-01T15:08:59.662950Z"
    }
   },
   "outputs": [],
   "source": [
    "# %%time\n",
    "\n",
    "# special_deck = make_special_deck()\n",
    "\n",
    "# from collections import Counter\n",
    "\n",
    "# c = Counter()\n",
    "# really_good_hands = []\n",
    "\n",
    "# for combo in permutations(special_deck, 5):\n",
    "#     hand = Hand(combo[:4]).sorted()\n",
    "#     cut = combo[-1]\n",
    "    \n",
    "#     scores, counts = score_hand(hand, cut)\n",
    "#     score = sum([v for k,v in scores.items()])\n",
    "#     c[score] += 1\n",
    "    \n",
    "#     if score > 28:\n",
    "#         really_good_hands.append((hand, cut))\n",
    "\n",
    "# print(c)\n",
    "# print()\n",
    "\n",
    "# for h in really_good_hands:\n",
    "#     hand = h[0]\n",
    "#     cut = h[1]\n",
    "#     scores, counts = score_hand(hand, cut)\n",
    "#     print('Hand = {}; Cut = {} => {}'.format(', '.join(hand.cool_display()), cut.cool_display, sum([v for k,v in scores.items()])))\n",
    "#     #display_points(hand, cut, scores, counts)\n",
    "# #     print()\n"
   ]
  },
  {
   "cell_type": "markdown",
   "metadata": {},
   "source": [
    "20: 2400\n",
    "22: 2016\n",
    "21: 960\n",
    "23: 864\n",
    "28: 384\n",
    "29: 96\n",
    "    \n",
    "We had to use permutations to find the proper 29 point hands. Basically it is 4 5s with and 1 jack. The cut 5 has to match the suit of the jack for 29, otherwise it is 28 points."
   ]
  },
  {
   "cell_type": "code",
   "execution_count": 7,
   "metadata": {
    "ExecuteTime": {
     "end_time": "2018-07-01T15:08:59.937273Z",
     "start_time": "2018-07-01T15:08:59.780928Z"
    }
   },
   "outputs": [
    {
     "name": "stdout",
     "output_type": "stream",
     "text": [
      "Hand      = 2♦,3♥,3♠,4♣\n",
      "Cut       = 5♦\n",
      "\n",
      "1 Fifteens for 2\n",
      "1 Pairs for    2\n",
      "2 Runs for     8\n",
      "Flush for      0\n",
      "Nobs for       0\n",
      "-----------------\n",
      "Total          12\n",
      "\n",
      "Fifteens====\n",
      "3♥, 3♠, 4♣, 5♦ = 15\n",
      "\n",
      "Pairs====\n",
      "3♥, 3♠\n",
      "\n",
      "Runs====\n",
      "2♦, 3♥, 4♣, 5♦\n",
      "2♦, 3♠, 4♣, 5♦\n"
     ]
    }
   ],
   "source": [
    "m = [Card('2','D'), Card('3', 'H'), Card('3', 'S'), Card('4', 'C')]\n",
    "hand = Hand(m)\n",
    "cut = Card('5','D')\n",
    "\n",
    "scores, counts = score_hand(hand, cut)\n",
    "display_points(hand, cut, scores, counts)"
   ]
  },
  {
   "cell_type": "markdown",
   "metadata": {},
   "source": [
    "# Given 6 Cards, Which 4 give the Highest Value"
   ]
  },
  {
   "cell_type": "code",
   "execution_count": 8,
   "metadata": {
    "ExecuteTime": {
     "end_time": "2018-07-01T15:09:00.092334Z",
     "start_time": "2018-07-01T15:08:59.941482Z"
    }
   },
   "outputs": [],
   "source": [
    "def determine_best_hand(hand):\n",
    "    \"\"\"\n",
    "    Takes a hand of 6 cards and determines the best 4 hand combination\n",
    "    \"\"\"\n",
    "    \n",
    "    assert len(hand) == 6\n",
    "    \n",
    "    max_score = 0\n",
    "    best_hand = None\n",
    "    \n",
    "    for combo in hand.every_combination(count=4):\n",
    "        new_hand = Hand(combo).sorted()\n",
    "        \n",
    "        scores, counts = score_hand(new_hand, cut)\n",
    "        score = sum([v for k,v in scores.items()])\n",
    "        \n",
    "        if score > max_score:\n",
    "            max_score = score\n",
    "            best_hand = new_hand\n",
    "    \n",
    "    return max_score, best_hand"
   ]
  },
  {
   "cell_type": "code",
   "execution_count": 9,
   "metadata": {
    "ExecuteTime": {
     "end_time": "2018-07-01T15:09:00.237468Z",
     "start_time": "2018-07-01T15:09:00.096300Z"
    }
   },
   "outputs": [
    {
     "name": "stdout",
     "output_type": "stream",
     "text": [
      "6 Cards = A♥, Q♦, Q♥, 7♠, J♦, J♣\n",
      "\n",
      "Hand      = J♦,J♣,Q♦,Q♥\n",
      "Cut       = N/A\n",
      "\n",
      "0 Fifteens for 0\n",
      "2 Pairs for    4\n",
      "0 Runs for     0\n",
      "Flush for      0\n",
      "Nobs for       0\n",
      "-----------------\n",
      "Total          4\n",
      "\n",
      "Fifteens====\n",
      "\n",
      "Pairs====\n",
      "J♦, J♣\n",
      "Q♦, Q♥\n",
      "\n",
      "Runs====\n"
     ]
    }
   ],
   "source": [
    "hand = Hand(random.sample(deck, 6))\n",
    "print('6 Cards = {}'.format(', '.join(hand.cool_display())))\n",
    "print()\n",
    "\n",
    "score, best_hand = determine_best_hand(hand)\n",
    "\n",
    "scores, counts = score_hand(best_hand, None)\n",
    "\n",
    "display_points(best_hand, None, scores, counts)"
   ]
  },
  {
   "cell_type": "markdown",
   "metadata": {},
   "source": [
    "----"
   ]
  },
  {
   "cell_type": "markdown",
   "metadata": {},
   "source": [
    "# Determine all Hands of 5 cards that Equal 15\n",
    "\n",
    "https://en.wikipedia.org/wiki/Cribbage_statistics#Card_combinations"
   ]
  },
  {
   "cell_type": "code",
   "execution_count": 10,
   "metadata": {
    "ExecuteTime": {
     "end_time": "2018-07-01T15:09:00.339743Z",
     "start_time": "2018-07-01T15:09:00.240760Z"
    }
   },
   "outputs": [
    {
     "name": "stdout",
     "output_type": "stream",
     "text": [
      "Hand      = 5♣,5♠,J♥,J♣\n",
      "Cut       = J♠\n",
      "\n",
      "6 Fifteens for 12\n",
      "4 Pairs for    8\n",
      "0 Runs for     0\n",
      "Flush for      0\n",
      "Nobs for       0\n",
      "-----------------\n",
      "Total          20\n",
      "\n",
      "Fifteens====\n",
      "5♣, J♥ = 15\n",
      "5♣, J♣ = 15\n",
      "5♣, J♠ = 15\n",
      "5♠, J♥ = 15\n",
      "5♠, J♣ = 15\n",
      "5♠, J♠ = 15\n",
      "\n",
      "Pairs====\n",
      "5♣, 5♠\n",
      "J♥, J♣\n",
      "J♥, J♠\n",
      "J♣, J♠\n",
      "\n",
      "Runs====\n"
     ]
    }
   ],
   "source": [
    "hand = Hand([Card('5C'), Card('5S'), Card('JH'), Card('JC')])\n",
    "cut = Card('JS')\n",
    "scores, counts = score_hand(hand, cut)\n",
    "display_points(hand, cut, scores, counts)"
   ]
  },
  {
   "cell_type": "code",
   "execution_count": 11,
   "metadata": {
    "ExecuteTime": {
     "end_time": "2018-07-01T15:09:00.463783Z",
     "start_time": "2018-07-01T15:09:00.344286Z"
    }
   },
   "outputs": [],
   "source": [
    "# https://stackoverflow.com/questions/4632322/finding-all-possible-combinations-of-numbers-to-reach-a-given-sum\n",
    "def subset_sum(numbers, target, partial=[], partial_sum=0):\n",
    "    if partial_sum == target:\n",
    "        yield partial\n",
    "        \n",
    "    if partial_sum >= target:\n",
    "        return\n",
    "    \n",
    "    for i, n in enumerate(numbers):\n",
    "        remaining = numbers[i + 1:]\n",
    "        yield from subset_sum(remaining, target, partial + [n], partial_sum + n)\n",
    "        \n",
    "# example:\n",
    "# for x in subset_sum([1, 2, 3, 7, 7, 9, 10], 10):\n",
    "#     print(x)"
   ]
  },
  {
   "cell_type": "code",
   "execution_count": 12,
   "metadata": {
    "ExecuteTime": {
     "end_time": "2018-07-01T15:09:00.624529Z",
     "start_time": "2018-07-01T15:09:00.467698Z"
    }
   },
   "outputs": [
    {
     "name": "stdout",
     "output_type": "stream",
     "text": [
      "[1, 2, 3, 4, 5] = 15\n",
      "[1, 2, 3, 9] = 15\n",
      "[1, 2, 4, 8] = 15\n",
      "[1, 2, 5, 7] = 15\n",
      "[1, 3, 4, 7] = 15\n",
      "[1, 3, 5, 6] = 15\n",
      "[1, 4, 10] = 15\n",
      "[1, 5, 9] = 15\n",
      "[1, 6, 8] = 15\n",
      "[2, 3, 4, 6] = 15\n",
      "[2, 3, 10] = 15\n",
      "[2, 4, 9] = 15\n",
      "[2, 5, 8] = 15\n",
      "[2, 6, 7] = 15\n",
      "[3, 4, 8] = 15\n",
      "[3, 5, 7] = 15\n",
      "[4, 5, 6] = 15\n",
      "[5, 10] = 15\n",
      "[6, 9] = 15\n",
      "[7, 8] = 15\n"
     ]
    }
   ],
   "source": [
    "m = [1, 2, 3, 4, 5, 6, 7, 8, 9, 10]\n",
    "s = 15\n",
    "for x in subset_sum(m, s):\n",
    "    print('{} = {}'.format(x,s))\n"
   ]
  },
  {
   "cell_type": "code",
   "execution_count": 13,
   "metadata": {
    "ExecuteTime": {
     "end_time": "2018-07-01T15:09:00.780430Z",
     "start_time": "2018-07-01T15:09:00.627430Z"
    }
   },
   "outputs": [
    {
     "name": "stdout",
     "output_type": "stream",
     "text": [
      "[5, 10] = 15\n",
      "[6, 9] = 15\n",
      "[7, 8] = 15\n",
      "[1, 4, 10] = 15\n",
      "[1, 5, 9] = 15\n",
      "[1, 6, 8] = 15\n",
      "[2, 3, 10] = 15\n",
      "[2, 4, 9] = 15\n",
      "[2, 5, 8] = 15\n",
      "[2, 6, 7] = 15\n",
      "[3, 4, 8] = 15\n",
      "[3, 5, 7] = 15\n",
      "[4, 5, 6] = 15\n",
      "[1, 2, 3, 9] = 15\n",
      "[1, 2, 4, 8] = 15\n",
      "[1, 2, 5, 7] = 15\n",
      "[1, 3, 4, 7] = 15\n",
      "[1, 3, 5, 6] = 15\n",
      "[2, 3, 4, 6] = 15\n",
      "[1, 2, 3, 4, 5] = 15\n"
     ]
    }
   ],
   "source": [
    "# how many different ways can we make 15\n",
    "import itertools\n",
    "\n",
    "l = [1, 2, 3, 4, 5, 6, 7, 8, 9, 10]\n",
    "ts = 15\n",
    "\n",
    "def psl(l, ts):\n",
    "    for i in range(len(l)):\n",
    "        for c in itertools.combinations(l, i):\n",
    "            if sum(c) == ts:\n",
    "                print('{} = {}'.format(list(c), sum(c)))\n",
    "\n",
    "psl(l, ts)"
   ]
  }
 ],
 "metadata": {
  "kernelspec": {
   "display_name": "Python 3",
   "language": "python",
   "name": "python3"
  },
  "language_info": {
   "codemirror_mode": {
    "name": "ipython",
    "version": 3
   },
   "file_extension": ".py",
   "mimetype": "text/x-python",
   "name": "python",
   "nbconvert_exporter": "python",
   "pygments_lexer": "ipython3",
   "version": "3.6.5"
  },
  "widgets": {
   "state": {},
   "version": "1.0.0"
  }
 },
 "nbformat": 4,
 "nbformat_minor": 1
}
