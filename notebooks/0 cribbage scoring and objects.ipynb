{
 "cells": [
  {
   "cell_type": "markdown",
   "metadata": {},
   "source": [
    "# Cribbage Scoring\n",
    "\n",
    "This notebook will attempt to develop an algorithm to score a cribbage hand.\n",
    "\n",
    "https://github.com/CJOlsen/Cribbage-Helper/blob/master/cribbage.py  \n",
    "https://www.pagat.com/adders/crib6.html  \n",
    "http://boardgames.stackexchange.com/questions/24509/cribbage-scoring-rules-explanation\n",
    "\n",
    ">    15: Any combination of cards adding up to 15 pips scores 2 points. For example king, jack, five, five would score 10 points altogether: 8 points for four fifteens, since the king and the jack can each be paired with either of the fives, plus 2 more points for the pair of fives. You would say \"Fifteen two, fifteen four, fifteen six, fifteen eight and a pair makes ten\".\n",
    "\n",
    ">   Pair: A pair of cards of the same rank score 2 points. Three cards of the same rank contain 3 different pairs and thus score a total of 6 points for pair royal. Four of a kind contain 6 pairs and so score 12 points.\n",
    "\n",
    ">    Run: Three cards of consecutive rank (irrespective of suit), such as ace-2-3, score 3 points for a run. A hand such as 6-7-7-8 contains two runs of 3 (as well as two fifteens and a pair) and so would score 12 altogether. A run of four cards, such as 9-10-J-Q scores 4 points (this is slightly illogical - you might expect it to score 6 because it contains two runs of 3, but it doesn't. The runs of 3 within it don't count - you just get 4), and a run of five cards scores 5.\n",
    "\n",
    ">    Flush: If all four cards of the hand are the same suit, 4 points are scored for flush. If the start card is the same suit as well, the flush is worth 5 points. There is no score for having 3 hand cards and the start all the same suit. Note also that there is no score for flush during the play - it only counts in the show.\n",
    "\n",
    ">    One For His Nob: If the hand contains the jack of the same suit as the start card, you peg One for his nob (sometimes known, especially in North America, as \"one for his nobs\" or \"one for his nibs\").."
   ]
  },
  {
   "cell_type": "markdown",
   "metadata": {},
   "source": [
    "## Conventions\n",
    "\n",
    "The cards in a deck will be represented by two characters, the face value (A,2,3,4,5,6,7,8,9,10,J,Q,K) and the suit (S, H, D, C). So the king of spades would be: KS and the 2 of diamonds would be: 2D. Face cards have a point value of 10, the ace is 1 point and all other cards represent their value.\n",
    "\n",
    "The player has 4 cards in their hand and the cut card. The program should be able to accurately count the score. \n",
    "\n",
    "The following hand would be 1 pair for 2 points:  \n",
    "2D, 2S, KD, QD: 4C\n",
    "\n",
    "----"
   ]
  },
  {
   "cell_type": "code",
   "execution_count": 1,
   "metadata": {
    "ExecuteTime": {
     "end_time": "2018-06-30T16:57:32.738306Z",
     "start_time": "2018-06-30T16:57:32.721731Z"
    }
   },
   "outputs": [
    {
     "data": {
      "application/javascript": [
       "//Disable autoscroll in the output cells\n",
       "IPython.OutputArea.prototype._should_scroll = function(lines) {\n",
       "    return false;\n",
       "}"
      ],
      "text/plain": [
       "<IPython.core.display.Javascript object>"
      ]
     },
     "metadata": {},
     "output_type": "display_data"
    }
   ],
   "source": [
    "%%javascript\n",
    "//Disable autoscroll in the output cells\n",
    "IPython.OutputArea.prototype._should_scroll = function(lines) {\n",
    "    return false;\n",
    "}"
   ]
  },
  {
   "cell_type": "markdown",
   "metadata": {},
   "source": [
    "The following blocks of code are from GitHub: https://github.com/CJOlsen/Cribbage-Helper/blob/master/cribbage.py. It has the nicest card class and some good implmentations of the scoring routines.\n",
    "\n",
    "I am going to clean them up and modify them as I see fit..."
   ]
  },
  {
   "cell_type": "code",
   "execution_count": 2,
   "metadata": {
    "ExecuteTime": {
     "end_time": "2018-06-30T16:57:32.889701Z",
     "start_time": "2018-06-30T16:57:32.743398Z"
    }
   },
   "outputs": [
    {
     "name": "stdout",
     "output_type": "stream",
     "text": [
      "heart   = ♥\n",
      "diamond = ♦\n",
      "spade   = ♠\n",
      "club    = ♣\n",
      "H       = ♥\n",
      "D       = ♦\n",
      "S       = ♠\n",
      "C       = ♣\n"
     ]
    }
   ],
   "source": [
    "# http://www.fileformat.info/info/unicode/char/2666/index.htm\n",
    "HEART = u'\\u2665'\n",
    "DIAMOND = u'\\u2666'\n",
    "SPADE = u'\\u2660'\n",
    "CLUB = u'\\u2663'\n",
    "\n",
    "# Suit name to symbol map\n",
    "suits ={'heart':HEART,\n",
    "        'diamond':DIAMOND,\n",
    "        'spade':SPADE,\n",
    "        'club':CLUB,\n",
    "        'H':HEART,\n",
    "        'D':DIAMOND,\n",
    "        'S':SPADE,\n",
    "        'C':CLUB}\n",
    "\n",
    "for k,v in suits.items():\n",
    "    print('{:7} = {}'.format(k,v))\n"
   ]
  },
  {
   "cell_type": "code",
   "execution_count": 3,
   "metadata": {
    "ExecuteTime": {
     "end_time": "2018-06-30T16:57:33.061945Z",
     "start_time": "2018-06-30T16:57:32.895180Z"
    }
   },
   "outputs": [],
   "source": [
    "import random"
   ]
  },
  {
   "cell_type": "code",
   "execution_count": 4,
   "metadata": {
    "ExecuteTime": {
     "end_time": "2018-06-30T16:57:33.197539Z",
     "start_time": "2018-06-30T16:57:33.066497Z"
    }
   },
   "outputs": [],
   "source": [
    "# Shared tuple that stores the card ranks\n",
    "ranks = ('A', '2', '3', '4', '5', '6', '7', '8', '9', 'T', 'J', 'Q', 'K')\n",
    "\n",
    "# shared tuple that stores the card suits\n",
    "suits = ('D', 'H', 'C', 'S')\n",
    "\n",
    "\n",
    "class Card(object):\n",
    "    \"\"\"\n",
    "    This is a card object, it has a rank, a value, a suit, and a display.\n",
    "    Value is an integer rank, suit and display are strings.\n",
    "    \"\"\"\n",
    "\n",
    "# code for the class was inspired from:\n",
    "# https://github.com/CJOlsen/Cribbage-Helper/blob/master/cribbage.py\n",
    "# I have made some heavy modifications to the basic program\n",
    "\n",
    "    def __init__(self, rank=None, suit=None):\n",
    "        \"\"\"\n",
    "        Parameters\n",
    "        ----------\n",
    "        rank - a string representing the rank of the card: A, 2, 3, 4, 5, 6, 7,\n",
    "               8, 9, 10, J, Q, K\n",
    "\n",
    "        suit - a string representing the suit of the card D, H, C or S\n",
    "\n",
    "        NOTE: If you send a combined string like '3H' or 'AS' in the rank slot.\n",
    "              This will be split into the rank and suit. The order matters 'H3'\n",
    "              or 'h3' or 'sa' won't be accepted.\n",
    "        \"\"\"\n",
    "\n",
    "        if rank and suit:\n",
    "            assert type(rank) == str and rank in ranks\n",
    "            assert type(suit) == str and suit in suits\n",
    "\n",
    "        elif rank:\n",
    "            assert type(rank) == str\n",
    "            assert len(rank) == 2\n",
    "\n",
    "            r, s = rank.upper()\n",
    "\n",
    "            # make sure the values are in the right order\n",
    "            if r in ranks and s in suits:\n",
    "                rank = r\n",
    "                suit = s\n",
    "\n",
    "            elif r in suits and s in ranks:\n",
    "                rank = s\n",
    "                suit = r\n",
    "\n",
    "            else:\n",
    "                raise ValueError('Rank and/or suit do not match!')\n",
    "\n",
    "        else:\n",
    "            raise ValueError('Rank and suit not properly set!')\n",
    "\n",
    "        # at this point the rank and suit should be sorted\n",
    "        self.rank = rank\n",
    "        self.suit = suit\n",
    "\n",
    "        if rank == 'A':\n",
    "            self.value = 1\n",
    "\n",
    "        elif rank in ('T', 'J', 'Q', 'K'):\n",
    "            self.value = 10\n",
    "\n",
    "        else:\n",
    "            self.value = int(rank)\n",
    "\n",
    "        self.display = rank + suit\n",
    "\n",
    "        suit_symbols = {'H': u'\\u2665',\n",
    "                        'D': u'\\u2666',\n",
    "                        'S': u'\\u2660',\n",
    "                        'C': u'\\u2663'}\n",
    "\n",
    "        # TBW 2016-07-20\n",
    "        # display the card with the rank and a graphical symbol\n",
    "        # representing the suit\n",
    "        self.cool_display = rank + suit_symbols[suit]\n",
    "\n",
    "        # set the cards sorting order - useful for sorting a list of cards.\n",
    "        rank_sort_order_map = {'A': 1,\n",
    "                               '2': 2,\n",
    "                               '3': 3,\n",
    "                               '4': 4,\n",
    "                               '5': 5,\n",
    "                               '6': 6,\n",
    "                               '7': 7,\n",
    "                               '8': 8,\n",
    "                               '9': 9,\n",
    "                               'T': 10,\n",
    "                               'J': 11,\n",
    "                               'Q': 12,\n",
    "                               'K': 13}\n",
    "\n",
    "        self.sort_order = rank_sort_order_map[rank]\n",
    "\n",
    "    def __eq__(self, other):\n",
    "        \"\"\"\n",
    "        This overrides the == operator to check for equality\n",
    "        \"\"\"\n",
    "        return self.__dict__ == other.__dict__\n",
    "\n",
    "    def __add__(self, other):\n",
    "        \"\"\"\n",
    "        \"\"\"\n",
    "        return self.value + other.value\n",
    "\n",
    "    def __radd__(self, other):\n",
    "        \"\"\"\n",
    "        \"\"\"\n",
    "        return self.value + other\n",
    "\n",
    "    # TBW 2016-07-21\n",
    "    def __lt__(self, other):\n",
    "        \"\"\"\n",
    "        Make the item sortable\n",
    "        \"\"\"\n",
    "        return self.sort_order < other.sort_order\n",
    "\n",
    "    def __hash__(self):\n",
    "        \"\"\"\n",
    "        Make the item hashable\n",
    "        \"\"\"\n",
    "        return hash(self.display)\n",
    "\n",
    "    def __str__(self):\n",
    "        return self.cool_display\n",
    "\n",
    "    def __repr__(self):\n",
    "        # return \"Card('{}', '{}')\".format(self.rank, self.suit)\n",
    "        return self.__str__()  # I don't need to produce the above..."
   ]
  },
  {
   "cell_type": "code",
   "execution_count": 5,
   "metadata": {
    "ExecuteTime": {
     "end_time": "2018-06-30T16:57:33.372706Z",
     "start_time": "2018-06-30T16:57:33.202459Z"
    }
   },
   "outputs": [
    {
     "name": "stdout",
     "output_type": "stream",
     "text": [
      "3♠\n",
      "3♠\n",
      "3♠\n"
     ]
    }
   ],
   "source": [
    "print(Card('3S').cool_display)\n",
    "print(Card('s3').cool_display)\n",
    "print(Card('3', 'S').cool_display)\n",
    "# print(Card('S', 'A').cool_display) # this will raise an assertion error"
   ]
  },
  {
   "cell_type": "code",
   "execution_count": 6,
   "metadata": {
    "ExecuteTime": {
     "end_time": "2018-06-30T16:57:33.499824Z",
     "start_time": "2018-06-30T16:57:33.379426Z"
    }
   },
   "outputs": [],
   "source": [
    "from itertools import chain, combinations, product"
   ]
  },
  {
   "cell_type": "code",
   "execution_count": 7,
   "metadata": {
    "ExecuteTime": {
     "end_time": "2018-06-30T16:57:33.640189Z",
     "start_time": "2018-06-30T16:57:33.504675Z"
    }
   },
   "outputs": [],
   "source": [
    "def make_deck():\n",
    "    \"\"\"\n",
    "    Creates a deck of 52 cards. Returns the deck as a list\n",
    "    \"\"\"\n",
    "    \n",
    "    cards = []\n",
    "    for p in product(ranks, suits):        \n",
    "        cards.append(Card(*p))\n",
    "    \n",
    "    return cards\n",
    "\n",
    "# # Test code\n",
    "# deck = make_deck()\n",
    "\n",
    "# for c in deck:\n",
    "#     print(c.display, c.cool_display, c.sort_order)"
   ]
  },
  {
   "cell_type": "code",
   "execution_count": 8,
   "metadata": {
    "ExecuteTime": {
     "end_time": "2018-06-30T16:57:33.820315Z",
     "start_time": "2018-06-30T16:57:33.644413Z"
    }
   },
   "outputs": [],
   "source": [
    "class Hand(list):\n",
    "    \"\"\"\n",
    "    A hand is a list of ***Card*** objects.\n",
    "    \"\"\"\n",
    "\n",
    "    def __init__(self, *args):\n",
    "        list.__init__(self, *args)\n",
    "\n",
    "    def display(self):\n",
    "        \"\"\"\n",
    "        Returns a list of ***Card*** objects in the hand in a format suitable\n",
    "        for display: [AD, 1D, 3S,4C]\n",
    "        \"\"\"\n",
    "        return [c.display for c in self]\n",
    "\n",
    "    def cool_display(self):\n",
    "        \"\"\"\n",
    "        Returns a list of ***Card*** objects in the hand in a format suitable\n",
    "        for display: [A♦, 1♦, 3♠, 4♣]\n",
    "        \"\"\"\n",
    "        return [c.cool_display for c in self]\n",
    "\n",
    "    def value(self):\n",
    "        \"\"\"\n",
    "        Returns the value of ***Card*** objects in the hand by summing\n",
    "        the individual card values.\n",
    "        A = 1\n",
    "        J,Q,K = 10\n",
    "\n",
    "        and the other cards are equal to the value of their rank.\n",
    "        \"\"\"\n",
    "        return sum([c.value for c in self])\n",
    "\n",
    "    def sorted(self):\n",
    "        \"\"\"\n",
    "        Return a new ***Hand*** in sorted order.\n",
    "        \"\"\"\n",
    "        return Hand(sorted(self, key=lambda c: c.sort_order, reverse=False))\n",
    "\n",
    "    def every_combination(self, **kwargs):\n",
    "        \"\"\"\n",
    "        A generator that will yield all possible combination of hands\n",
    "        from the current hand.\n",
    "        \"\"\"\n",
    "\n",
    "        if 'count' in kwargs:\n",
    "            for combo in combinations(self, kwargs['count']):\n",
    "                yield Hand(combo)\n",
    "        else:\n",
    "            for combo in chain.from_iterable(combinations(self, r)\n",
    "                                             for r in range(len(self) + 1)):\n",
    "                yield Hand(combo)   "
   ]
  },
  {
   "cell_type": "code",
   "execution_count": 9,
   "metadata": {
    "ExecuteTime": {
     "end_time": "2018-06-30T16:57:33.952855Z",
     "start_time": "2018-06-30T16:57:33.823797Z"
    }
   },
   "outputs": [
    {
     "name": "stdout",
     "output_type": "stream",
     "text": [
      "Random Hand = ['2D', '2H', 'TC', 'QC', '8D', 'JD']\n",
      "Random Hand = ['2♦', '2♥', 'T♣', 'Q♣', '8♦', 'J♦']\n",
      "Sorted Hand = ['2♦', '2♥', '8♦', 'T♣', 'J♦', 'Q♣']\n",
      "Hand Sum  = 42\n"
     ]
    }
   ],
   "source": [
    "deck = make_deck()\n",
    "hand = Hand(random.sample(deck, 6))\n",
    "\n",
    "print('Random Hand = {}'.format(hand.display()))\n",
    "print('Random Hand = {}'.format(hand.cool_display()))\n",
    "print('Sorted Hand = {}'.format(hand.sorted().cool_display()))\n",
    "print('Hand Sum  = {}'.format(hand.value()))"
   ]
  },
  {
   "cell_type": "code",
   "execution_count": 10,
   "metadata": {
    "ExecuteTime": {
     "end_time": "2018-06-30T16:57:34.114748Z",
     "start_time": "2018-06-30T16:57:33.956777Z"
    }
   },
   "outputs": [],
   "source": [
    "# # iterate through every combination of the hand:\n",
    "# for combo in hand.every_combination():\n",
    "#     print('Combination = {}'.format(combo.cool_display()))"
   ]
  },
  {
   "cell_type": "markdown",
   "metadata": {},
   "source": [
    "# Scoring - Fifteens"
   ]
  },
  {
   "cell_type": "code",
   "execution_count": 11,
   "metadata": {
    "ExecuteTime": {
     "end_time": "2018-06-30T16:57:34.258083Z",
     "start_time": "2018-06-30T16:57:34.119303Z"
    }
   },
   "outputs": [],
   "source": [
    "def find_fifteens_combos(hand):\n",
    "    \"\"\"\n",
    "    A generator that takes a hand of cards and finds all of the combinations of\n",
    "    cards that sum to 15. It returns a sub-hand containing the combination\n",
    "    \"\"\"\n",
    "    for combo in hand.every_combination():\n",
    "        if combo.value() == 15:\n",
    "            yield combo\n",
    "\n",
    "\n",
    "def count_fifteens(hand):\n",
    "    \"\"\"\n",
    "    Counts the number of combinations within the hand of cards that sum to 15.\n",
    "    Each combination is worth 2 points.\n",
    "\n",
    "    Returns a tuple containing the total number of combinations and the total\n",
    "    points.\n",
    "    \"\"\"\n",
    "    combos = list(find_fifteens_combos(hand))\n",
    "    return len(combos), len(combos)*2"
   ]
  },
  {
   "cell_type": "code",
   "execution_count": 12,
   "metadata": {
    "ExecuteTime": {
     "end_time": "2018-06-30T16:57:34.386876Z",
     "start_time": "2018-06-30T16:57:34.262780Z"
    },
    "scrolled": true
   },
   "outputs": [
    {
     "name": "stdout",
     "output_type": "stream",
     "text": [
      "Hand = ['A♣', '2♥', '4♠', 'T♦', 'K♠']\n",
      "2 Fifteens for 4.\n",
      "A♣, 4♠, K♠ = 15\n",
      "A♣, 4♠, T♦ = 15\n"
     ]
    }
   ],
   "source": [
    "hand = Hand(random.sample(deck, 5))\n",
    "print('Hand = {}'.format(hand.sorted().cool_display()))\n",
    "\n",
    "print('{} Fifteens for {}.'.format(*count_fifteens(hand)))\n",
    "\n",
    "# display the combinations\n",
    "for combo in find_fifteens_combos(hand): \n",
    "    print('{} = 15'.format(', '.join(combo.sorted().cool_display())))    "
   ]
  },
  {
   "cell_type": "markdown",
   "metadata": {},
   "source": [
    "# Scoring - Pairs"
   ]
  },
  {
   "cell_type": "code",
   "execution_count": 13,
   "metadata": {
    "ExecuteTime": {
     "end_time": "2018-06-30T16:57:34.515698Z",
     "start_time": "2018-06-30T16:57:34.391554Z"
    }
   },
   "outputs": [],
   "source": [
    "def find_pairs(hand):\n",
    "    \"\"\"\n",
    "    A generator that will iterate through all of the combinations and yield\n",
    "    pairs of cards.\n",
    "    \"\"\"\n",
    "    for combo in hand.every_combination(count=2):\n",
    "        if combo[0].rank == combo[1].rank:\n",
    "            yield combo\n",
    "\n",
    "\n",
    "def count_pairs(hand):\n",
    "    \"\"\"\n",
    "    Returns the score due to all the pairs found in the hand. Each pair is\n",
    "    worth 3 points.\n",
    "    \"\"\"\n",
    "    pairs = list(find_pairs(hand))\n",
    "    return len(pairs), len(pairs)*2"
   ]
  },
  {
   "cell_type": "code",
   "execution_count": 14,
   "metadata": {
    "ExecuteTime": {
     "end_time": "2018-06-30T16:57:34.648003Z",
     "start_time": "2018-06-30T16:57:34.523474Z"
    }
   },
   "outputs": [],
   "source": [
    "# full_hand = Hand([Card('J','D'), Card('5', 'H'), Card('5', 'S'), Card('5', 'C'), Card('5','D')])\n",
    "# for c in full_hand.every_combination(count=2):\n",
    "#     print(c.cool_display())\n",
    "    \n",
    "# # for this set there should be 10 combinations\n",
    "# print()\n",
    "# for combo in combinations(full_hand, 2):\n",
    "#     print(Hand(combo).cool_display())\n",
    "    \n"
   ]
  },
  {
   "cell_type": "code",
   "execution_count": 15,
   "metadata": {
    "ExecuteTime": {
     "end_time": "2018-06-30T16:57:34.827866Z",
     "start_time": "2018-06-30T16:57:34.653115Z"
    }
   },
   "outputs": [
    {
     "name": "stdout",
     "output_type": "stream",
     "text": [
      "Hand = ['A♣', '5♦', '5♠', '5♣', 'J♠']\n",
      "\n",
      "4 Fifteens for 8.\n",
      "3 Pairs for    6.\n",
      "\n",
      "Fifteens====\n",
      "5♦, J♠ = 15\n",
      "5♠, J♠ = 15\n",
      "5♣, J♠ = 15\n",
      "5♦, 5♠, 5♣ = 15\n",
      "\n",
      "Pairs====\n",
      "5♦, 5♠\n",
      "5♦, 5♣\n",
      "5♠, 5♣\n"
     ]
    }
   ],
   "source": [
    "hand = Hand([Card('5','D'), Card('5', 'S'), Card('5', 'C'), Card('J', 'S'), Card('A','C')])\n",
    "print('Hand = {}'.format(hand.sorted().cool_display()))\n",
    "print()\n",
    "print('{} Fifteens for {}.'.format(*count_fifteens(hand)))\n",
    "print('{} Pairs for    {}.'.format(*count_pairs(hand)))\n",
    "print()\n",
    "\n",
    "print('Fifteens====')\n",
    "for combo in find_fifteens_combos(hand): \n",
    "    print('{} = 15'.format(', '.join(combo.cool_display())))   \n",
    "\n",
    "print()\n",
    "print('Pairs====')\n",
    "# display the pairs\n",
    "for combo in find_pairs(hand): \n",
    "    print('{}'.format(', '.join(combo.cool_display())))    "
   ]
  },
  {
   "cell_type": "code",
   "execution_count": 16,
   "metadata": {
    "ExecuteTime": {
     "end_time": "2018-06-30T16:57:34.949397Z",
     "start_time": "2018-06-30T16:57:34.832413Z"
    }
   },
   "outputs": [
    {
     "name": "stdout",
     "output_type": "stream",
     "text": [
      "Hand = ['5♥', '5♠', '5♣', '5♦', 'J♦']\n",
      "6 Pairs for    12.\n",
      "\n",
      "Pairs====\n",
      "5♥, 5♠\n",
      "5♥, 5♣\n",
      "5♥, 5♦\n",
      "5♠, 5♣\n",
      "5♠, 5♦\n",
      "5♣, 5♦\n"
     ]
    }
   ],
   "source": [
    "m = [Card('J','D'), Card('5', 'H'), Card('5', 'S'), Card('5', 'C')]\n",
    "hand = Hand([Card('J','D'), Card('5', 'H'), Card('5', 'S'), Card('5', 'C'), Card('5','D')])\n",
    "\n",
    "print('Hand = {}'.format(hand.sorted().cool_display()))\n",
    "print('{} Pairs for    {}.'.format(*count_pairs(hand)))\n",
    "print()\n",
    "\n",
    "print('Pairs====')\n",
    "# display the pairs\n",
    "for combo in find_pairs(hand): \n",
    "    print('{}'.format(', '.join(combo.cool_display())))  \n"
   ]
  },
  {
   "cell_type": "markdown",
   "metadata": {},
   "source": [
    "# Scoring - Runs"
   ]
  },
  {
   "cell_type": "code",
   "execution_count": 17,
   "metadata": {
    "ExecuteTime": {
     "end_time": "2018-06-30T16:57:35.082522Z",
     "start_time": "2018-06-30T16:57:34.956863Z"
    }
   },
   "outputs": [],
   "source": [
    "from itertools import groupby"
   ]
  },
  {
   "cell_type": "code",
   "execution_count": 18,
   "metadata": {
    "ExecuteTime": {
     "end_time": "2018-06-30T16:57:35.203935Z",
     "start_time": "2018-06-30T16:57:35.086582Z"
    }
   },
   "outputs": [],
   "source": [
    "def find_runs(hand):\n",
    "    \"\"\"\n",
    "    A generator that takes a hand of cards and finds all runs of 3 or more\n",
    "    cards. Returns each set of cards that makes a run.\n",
    "    \"\"\"\n",
    "    runs = []\n",
    "    for combo in chain.from_iterable(combinations(hand, r)\n",
    "                                     for r in range(3, len(hand)+1)):\n",
    "\n",
    "        for k, g in groupby(enumerate(Hand(combo).sorted()),\n",
    "                            lambda ix: ix[0] - ix[1].sort_order):\n",
    "\n",
    "            # strip out the enumeration and get the cards in the group\n",
    "            new_hand = Hand([i[1] for i in g])\n",
    "            if len(new_hand) < 3:\n",
    "                continue\n",
    "\n",
    "            m = set(new_hand)\n",
    "\n",
    "            # check to see if the new run is a subset of an existing run\n",
    "            if any([m.issubset(s) for s in runs]):\n",
    "                continue\n",
    "\n",
    "            # if the new run is a super set of previous runs, we need to remove\n",
    "            # them\n",
    "            l = [m.issuperset(s) for s in runs]\n",
    "            if any(l):\n",
    "                runs = [r for r, t in zip(runs, l) if not t]\n",
    "\n",
    "            if m not in runs:\n",
    "                runs.append(m)\n",
    "\n",
    "    return [Hand(list(r)).sorted() for r in runs]\n",
    "\n",
    "\n",
    "def count_runs(hand):\n",
    "    \"\"\"\n",
    "    Count the number of points in all the runs. 1 point per card in the run\n",
    "    (at least 3 cards).\n",
    "    \"\"\"\n",
    "    runs = list(find_runs(hand))\n",
    "    return len(runs), sum([len(r) for r in runs])"
   ]
  },
  {
   "cell_type": "code",
   "execution_count": 19,
   "metadata": {
    "ExecuteTime": {
     "end_time": "2018-06-30T16:57:35.390856Z",
     "start_time": "2018-06-30T16:57:35.207929Z"
    }
   },
   "outputs": [
    {
     "name": "stdout",
     "output_type": "stream",
     "text": [
      "Hand = ['2♦', '3♦', '4♦', '5♦', '8♦']\n",
      "\n",
      "1 Runs for     4.\n",
      "\n",
      "Runs====\n",
      "['2♦', '3♦', '4♦', '5♦']\n",
      "\n",
      "Hand = ['2♦', '3♦', '3♠', '3♣', '4♦']\n",
      "\n",
      "3 Runs for     9.\n",
      "\n",
      "Runs====\n",
      "['2♦', '3♦', '4♦']\n",
      "['2♦', '3♠', '4♦']\n",
      "['2♦', '3♣', '4♦']\n",
      "\n",
      "Hand = ['2♦', '4♦', '6♥', '8♠', '9♦']\n",
      "\n",
      "0 Runs for     0.\n",
      "\n",
      "Runs====\n",
      "\n"
     ]
    }
   ],
   "source": [
    "hands = [Hand([Card('2','D'), Card('3', 'D'), Card('4', 'D'), Card('8', 'D'), Card('5','D')]),\n",
    "         Hand([Card('2','D'), Card('3', 'D'), Card('3', 'S'), Card('3', 'C'), Card('4','D')]),\n",
    "         Hand([Card('2','D'), Card('4', 'D'), Card('6', 'H'), Card('8', 'S'), Card('9','D')])]\n",
    "\n",
    "for hand in hands:\n",
    "    print('Hand = {}'.format(hand.sorted().cool_display()))\n",
    "    print()\n",
    "\n",
    "    print('{} Runs for     {}.'.format(*count_runs(hand)))\n",
    "    print()\n",
    "\n",
    "    print('Runs====')\n",
    "    for combo in find_runs(hand):\n",
    "        print(combo.cool_display())\n",
    "    print()    "
   ]
  },
  {
   "cell_type": "markdown",
   "metadata": {},
   "source": [
    "# Flushes\n",
    "\n",
    "A four-card flush scores four points, unless in the crib. A four-card flush occurs when all of the cards in a player's hand are the same suit and the start card is a different suit. In the crib, a four-card flush scores no points. A five-card flush scores five points.\n",
    "\n",
    "Basically this means that we have to take into account the cards in hand and the card in the cut. A flush is only counted if the 4 hand cards are the same suit for 4 points, If the cut card is the same, an additional point is awarded. \n",
    "\n",
    "In the crib, a four-card flush isn't counted. If the cut card is the same, then the flush is counted for 5 points"
   ]
  },
  {
   "cell_type": "code",
   "execution_count": 20,
   "metadata": {
    "ExecuteTime": {
     "end_time": "2018-06-30T16:57:35.531094Z",
     "start_time": "2018-06-30T16:57:35.399580Z"
    }
   },
   "outputs": [],
   "source": [
    "def count_flushes(hand, cut, is_crib=False):\n",
    "    \"\"\"\n",
    "    Scores the points for flushes.\n",
    "    \"\"\"\n",
    "\n",
    "    assert len(hand) == 4\n",
    "\n",
    "    m = set([c.suit for c in hand])\n",
    "    if len(m) == 1:\n",
    "        score = 4\n",
    "\n",
    "        if cut and m.pop() == cut.suit:\n",
    "            score += 1\n",
    "\n",
    "        if is_crib:\n",
    "            # The crib can only score a flush if all the cards\n",
    "            # in the crib are the same suit and the cut card\n",
    "            # is the same suit. Otherwise a flush isn't counted.\n",
    "            if score != 5:\n",
    "                return 0\n",
    "\n",
    "        return score\n",
    "\n",
    "    else:\n",
    "        return 0"
   ]
  },
  {
   "cell_type": "code",
   "execution_count": 21,
   "metadata": {
    "ExecuteTime": {
     "end_time": "2018-06-30T16:57:35.708299Z",
     "start_time": "2018-06-30T16:57:35.538240Z"
    }
   },
   "outputs": [
    {
     "name": "stdout",
     "output_type": "stream",
     "text": [
      "Hand      = ['2♦', '3♦', '4♦', '8♦']\n",
      "Cut       = 5♦\n",
      "Full Hand = ['2♦', '3♦', '4♦', '5♦', '8♦']\n",
      "\n",
      "2 Fifteens for 4.\n",
      "0 Pairs for    0.\n",
      "1 Runs for     4.\n",
      "Flush for      5.\n",
      "\n",
      "Fifteens====\n",
      "3♦, 4♦, 8♦ = 15\n",
      "\n",
      "Pairs====\n",
      "\n",
      "Runs====\n",
      "['2♦', '3♦', '4♦']\n"
     ]
    }
   ],
   "source": [
    "m = [Card('2','D'), Card('3', 'D'), Card('4', 'D'), Card('8', 'D')]\n",
    "hand = Hand(m)\n",
    "cut = Card('5','D')\n",
    "full_hand = Hand(m + [cut])\n",
    "\n",
    "print('Hand      = {}'.format(hand.sorted().cool_display()))\n",
    "print('Cut       = {}'.format(cut.cool_display))\n",
    "print('Full Hand = {}'.format(full_hand.sorted().cool_display()))\n",
    "print()\n",
    "print('{} Fifteens for {}.'.format(*count_fifteens(full_hand)))\n",
    "print('{} Pairs for    {}.'.format(*count_pairs(full_hand)))\n",
    "print('{} Runs for     {}.'.format(*count_runs(full_hand)))\n",
    "print('Flush for      {}.'.format(count_flushes(hand, cut)))\n",
    "print()\n",
    "\n",
    "print('Fifteens====')\n",
    "for combo in find_fifteens_combos(hand): \n",
    "    print('{} = 15'.format(', '.join(combo.cool_display())))   \n",
    "\n",
    "print()\n",
    "print('Pairs====')\n",
    "for combo in find_pairs(hand): \n",
    "    print('{}'.format(', '.join(combo.cool_display())))    \n",
    "    \n",
    "print()\n",
    "print('Runs====')\n",
    "for combo in find_runs(hand):\n",
    "    print(combo.cool_display())"
   ]
  },
  {
   "cell_type": "code",
   "execution_count": 22,
   "metadata": {
    "ExecuteTime": {
     "end_time": "2018-06-30T16:57:35.849122Z",
     "start_time": "2018-06-30T16:57:35.711677Z"
    }
   },
   "outputs": [],
   "source": [
    "def count_nobs(hand, cut):\n",
    "    \"\"\"\n",
    "    Takes a 4 card hand and a cut card. If the hand contains a jack and it is\n",
    "    the same suit as the cut card than a point is scored. This is called nobs.\n",
    "    \"\"\"\n",
    "    assert len(hand) == 4\n",
    "\n",
    "    if not cut:\n",
    "        return 0\n",
    "\n",
    "    if any([c.suit == cut.suit and c.rank == 'J' for c in hand]):\n",
    "        return 1\n",
    "\n",
    "    else:\n",
    "        return 0"
   ]
  },
  {
   "cell_type": "code",
   "execution_count": 23,
   "metadata": {
    "ExecuteTime": {
     "end_time": "2018-06-30T16:57:36.008206Z",
     "start_time": "2018-06-30T16:57:35.852913Z"
    }
   },
   "outputs": [
    {
     "name": "stdout",
     "output_type": "stream",
     "text": [
      "Hand      = ['2♦', '3♦', '8♦', 'J♦']\n",
      "Cut       = 5♦\n",
      "Full Hand = ['2♦', '3♦', '5♦', '8♦', 'J♦']\n",
      "\n",
      "3 Fifteens for 6\n",
      "0 Pairs for    0\n",
      "0 Runs for     0\n",
      "Flush for      5\n",
      "Nobs for       1\n",
      "------------------\n",
      "Total          12\n",
      "\n",
      "Fifteens====\n",
      "2♦, 3♦, J♦ = 15\n",
      "\n",
      "Pairs====\n",
      "\n",
      "Runs====\n"
     ]
    }
   ],
   "source": [
    "m = [Card('2','D'), Card('3', 'D'), Card('J', 'D'), Card('8', 'D')]\n",
    "hand = Hand(m)\n",
    "cut = Card('5','D')\n",
    "full_hand = Hand(m + [cut])\n",
    "\n",
    "print('Hand      = {}'.format(hand.sorted().cool_display()))\n",
    "print('Cut       = {}'.format(cut.cool_display))\n",
    "print('Full Hand = {}'.format(full_hand.sorted().cool_display()))\n",
    "print()\n",
    "\n",
    "total_count = 0\n",
    "number, value = count_fifteens(full_hand)\n",
    "total_count += value\n",
    "print('{} Fifteens for {}'.format(number, value))\n",
    "\n",
    "number, value = count_pairs(full_hand)\n",
    "total_count += value\n",
    "print('{} Pairs for    {}'.format(number, value))\n",
    "\n",
    "number, value = count_runs(full_hand)\n",
    "total_count += value\n",
    "print('{} Runs for     {}'.format(number, value))\n",
    "\n",
    "value = count_flushes(hand, cut)\n",
    "total_count += value\n",
    "print('Flush for      {}'.format(value))\n",
    "\n",
    "value = count_nobs(hand, cut)\n",
    "total_count += value\n",
    "print('Nobs for       {}'.format(value))\n",
    "print('------------------')\n",
    "print('Total          {}'.format(total_count))\n",
    "print()\n",
    "\n",
    "print('Fifteens====')\n",
    "for combo in find_fifteens_combos(hand): \n",
    "    print('{} = 15'.format(', '.join(combo.cool_display())))   \n",
    "\n",
    "print()\n",
    "print('Pairs====')\n",
    "for combo in find_pairs(hand): \n",
    "    print('{}'.format(', '.join(combo.cool_display())))    \n",
    "    \n",
    "print()\n",
    "print('Runs====')\n",
    "for combo in find_runs(hand):\n",
    "    print(combo.cool_display())"
   ]
  },
  {
   "cell_type": "code",
   "execution_count": 24,
   "metadata": {
    "ExecuteTime": {
     "end_time": "2018-06-30T16:57:36.159515Z",
     "start_time": "2018-06-30T16:57:36.017186Z"
    }
   },
   "outputs": [],
   "source": [
    "def score_hand(hand, cut, **kwargs):\n",
    "    \"\"\"\n",
    "    Takes a 4 card crib hand and the cut card and scores it.\n",
    "\n",
    "    Returns a dictionary containing the various items\n",
    "    \"\"\"\n",
    "\n",
    "    # defaults\n",
    "    is_crib = False if 'is_crib' not in kwargs else kwargs['is_crib']\n",
    "\n",
    "    full_hand = Hand(hand + [cut]) if cut else hand\n",
    "    scores = {}  # contain the scores\n",
    "    count = {}  # contain the counts for items that can hit multiple times\n",
    "\n",
    "    number, value = count_fifteens(full_hand)\n",
    "    count['fifteen'] = number\n",
    "    scores['fifteen'] = value\n",
    "\n",
    "    number, value = count_pairs(full_hand)\n",
    "    count['pair'] = number\n",
    "    scores['pair'] = value\n",
    "\n",
    "    number, value = count_runs(full_hand)\n",
    "    count['run'] = number\n",
    "    scores['run'] = value\n",
    "\n",
    "    scores['flush'] = count_flushes(hand, cut, is_crib)\n",
    "    scores['nobs'] = count_nobs(hand, cut)\n",
    "\n",
    "    return scores, count"
   ]
  },
  {
   "cell_type": "code",
   "execution_count": 25,
   "metadata": {
    "ExecuteTime": {
     "end_time": "2018-06-30T16:57:36.327017Z",
     "start_time": "2018-06-30T16:57:36.165513Z"
    }
   },
   "outputs": [],
   "source": [
    "def display_points(hand, cut, scores, counts):\n",
    "    print('Hand      = {}'.format(','.join(hand.sorted().cool_display())))\n",
    "    print('Cut       = {}'.format(cut.cool_display if cut else 'N/A'))\n",
    "    print()\n",
    "\n",
    "    print('{} Fifteens for {}'.format(counts['fifteen'], scores['fifteen']))\n",
    "    print('{} Pairs for    {}'.format(counts['pair'], scores['pair']))\n",
    "    print('{} Runs for     {}'.format(counts['run'], scores['run']))\n",
    "    print('Flush for      {}'.format(scores['flush']))\n",
    "    print('Nobs for       {}'.format(scores['nobs']))\n",
    "    print('-----------------')\n",
    "    print('Total          {}'.format(sum([v for k, v in scores.items()])))\n",
    "    print()\n",
    "\n",
    "    full_hand = Hand(hand + [cut]) if cut else hand\n",
    "    print('Fifteens====')\n",
    "    for combo in find_fifteens_combos(full_hand):\n",
    "        print('{} = 15'.format(', '.join(combo.cool_display())))\n",
    "\n",
    "    print()\n",
    "    print('Pairs====')\n",
    "    for combo in find_pairs(full_hand):\n",
    "        print('{}'.format(', '.join(combo.cool_display())))\n",
    "\n",
    "    print()\n",
    "    print('Runs====')\n",
    "    for combo in find_runs(full_hand):\n",
    "        print(', '.join(combo.cool_display()))"
   ]
  },
  {
   "cell_type": "code",
   "execution_count": 26,
   "metadata": {
    "ExecuteTime": {
     "end_time": "2018-06-30T16:57:36.488289Z",
     "start_time": "2018-06-30T16:57:36.333774Z"
    }
   },
   "outputs": [
    {
     "name": "stdout",
     "output_type": "stream",
     "text": [
      "Hand = ['5♣', '5♠', 'J♥', 'J♣', 'J♠']\n",
      "6 Fifteens for 12.\n",
      "5♣, J♥ = 15\n",
      "5♣, J♣ = 15\n",
      "5♣, J♠ = 15\n",
      "5♠, J♥ = 15\n",
      "5♠, J♣ = 15\n",
      "5♠, J♠ = 15\n",
      "--------\n",
      "Hand      = 5♣,5♠,J♥,J♣\n",
      "Cut       = J♠\n",
      "\n",
      "6 Fifteens for 12\n",
      "4 Pairs for    8\n",
      "0 Runs for     0\n",
      "Flush for      0\n",
      "Nobs for       0\n",
      "-----------------\n",
      "Total          20\n",
      "\n",
      "Fifteens====\n",
      "5♣, J♥ = 15\n",
      "5♣, J♣ = 15\n",
      "5♣, J♠ = 15\n",
      "5♠, J♥ = 15\n",
      "5♠, J♣ = 15\n",
      "5♠, J♠ = 15\n",
      "\n",
      "Pairs====\n",
      "5♣, 5♠\n",
      "J♥, J♣\n",
      "J♥, J♠\n",
      "J♣, J♠\n",
      "\n",
      "Runs====\n"
     ]
    }
   ],
   "source": [
    "# Hand      = 5♣,5♠,J♥,J♣\n",
    "# Cut       = J♠\n",
    "\n",
    "# 6 Fifteens for 12\n",
    "# 4 Pairs for    8\n",
    "# 0 Runs for     0\n",
    "# Flush for      0\n",
    "# Nobs for       0\n",
    "# ------------------\n",
    "# Total          20\n",
    "\n",
    "# Fifteens====\n",
    "# J♥, 5♣ = 15\n",
    "# J♥, 5♠ = 15\n",
    "# 5♣, J♣ = 15\n",
    "# J♣, 5♠ = 15\n",
    "\n",
    "# Pairs====\n",
    "# J♥, J♣\n",
    "# 5♣, 5♠\n",
    "\n",
    "# Runs====\n",
    "\n",
    "hand = Hand([Card('5','C'), Card('5', 'S'), Card('J', 'H'), Card('J', 'C'), Card('J','S')])\n",
    "print('Hand = {}'.format(hand.sorted().cool_display()))\n",
    "\n",
    "print('{} Fifteens for {}.'.format(*count_fifteens(hand)))\n",
    "\n",
    "# display the combinations\n",
    "for combo in find_fifteens_combos(hand): \n",
    "    print('{} = 15'.format(', '.join(combo.sorted().cool_display())))    \n",
    "    \n",
    "print('--------')\n",
    "hand = Hand([Card('5','C'), Card('5', 'S'), Card('J', 'H'), Card('J', 'C')])\n",
    "cut = Card('J','S')\n",
    "scores, counts = score_hand(hand, cut)\n",
    "display_points(hand, cut, scores, counts)\n",
    "\n",
    "# this agrees now 2016-07-21"
   ]
  },
  {
   "cell_type": "code",
   "execution_count": 27,
   "metadata": {
    "ExecuteTime": {
     "end_time": "2018-06-30T16:57:36.674677Z",
     "start_time": "2018-06-30T16:57:36.502992Z"
    }
   },
   "outputs": [
    {
     "name": "stdout",
     "output_type": "stream",
     "text": [
      "Hand      = A♦,3♥,6♦,7♠\n",
      "Cut       = 2♠\n",
      "\n",
      "1 Fifteens for 2\n",
      "0 Pairs for    0\n",
      "1 Runs for     3\n",
      "Flush for      0\n",
      "Nobs for       0\n",
      "-----------------\n",
      "Total          5\n",
      "\n",
      "Fifteens====\n",
      "7♠, 6♦, 2♠ = 15\n",
      "\n",
      "Pairs====\n",
      "\n",
      "Runs====\n",
      "A♦, 2♠, 3♥\n"
     ]
    }
   ],
   "source": [
    "deck = make_deck()\n",
    "m = random.sample(deck, 5)\n",
    "hand = Hand(m[:4])\n",
    "cut = m[-1]\n",
    "\n",
    "scores, counts = score_hand(hand, cut)\n",
    "display_points(hand, cut, scores, counts)"
   ]
  },
  {
   "cell_type": "markdown",
   "metadata": {},
   "source": [
    "It seems there is something wrong, the highest possible hand is 29,\n",
    "\n",
    ">The highest scoring cribbage hand you can get is worth 29 points. It consists of a Jack and three fives. The cut card is the five of the same suit as the Jack. So, there are actually four different hands that are worth 29 (each suit).\n",
    "\n",
    "We score the 29 hand in the same way as any other: taking 15s first, then pairs, runs, flushes and nobs.\n",
    "\n",
    "First count 15s. The Jack makes 15 with each of the 5s, that's 4 15s. \n",
    "\n",
    "Also, there are 4 ways of choosing three different 5s to make additional 15s. That's 8 in total, for 16 points.\n",
    "\n",
    "Then pairs: there are 6 different pairs of 5s, for another 12 points. That's 28 so far.\n",
    "\n",
    "There are no runs or flushes, so the Jack of nobs gives us a final point for 29."
   ]
  },
  {
   "cell_type": "code",
   "execution_count": 28,
   "metadata": {
    "ExecuteTime": {
     "end_time": "2018-06-30T16:57:36.815097Z",
     "start_time": "2018-06-30T16:57:36.681647Z"
    }
   },
   "outputs": [
    {
     "name": "stdout",
     "output_type": "stream",
     "text": [
      "Hand      = 3♦,3♥,3♠,3♣\n",
      "Cut       = 7♦\n",
      "\n",
      "0 Fifteens for 0\n",
      "6 Pairs for    12\n",
      "0 Runs for     0\n",
      "Flush for      0\n",
      "Nobs for       0\n",
      "-----------------\n",
      "Total          12\n",
      "\n",
      "Fifteens====\n",
      "\n",
      "Pairs====\n",
      "3♦, 3♥\n",
      "3♦, 3♠\n",
      "3♦, 3♣\n",
      "3♥, 3♠\n",
      "3♥, 3♣\n",
      "3♠, 3♣\n",
      "\n",
      "Runs====\n"
     ]
    }
   ],
   "source": [
    "m = [Card('3','D'), Card('3', 'H'), Card('3', 'S'), Card('3', 'C')]\n",
    "hand = Hand(m)\n",
    "cut = Card('7','D')\n",
    "\n",
    "scores, counts = score_hand(hand, cut)\n",
    "display_points(hand, cut, scores, counts)"
   ]
  },
  {
   "cell_type": "markdown",
   "metadata": {},
   "source": [
    "# Testing the cribbage.py module"
   ]
  },
  {
   "cell_type": "code",
   "execution_count": 29,
   "metadata": {
    "ExecuteTime": {
     "end_time": "2018-06-30T16:57:36.944830Z",
     "start_time": "2018-06-30T16:57:36.822889Z"
    }
   },
   "outputs": [],
   "source": [
    "from cribbage import Card, Hand,score_hand, display_points, make_deck"
   ]
  },
  {
   "cell_type": "code",
   "execution_count": 30,
   "metadata": {
    "ExecuteTime": {
     "end_time": "2018-06-30T16:57:37.115810Z",
     "start_time": "2018-06-30T16:57:36.951612Z"
    }
   },
   "outputs": [
    {
     "name": "stdout",
     "output_type": "stream",
     "text": [
      "Hand      = A♥,2♣,8♣,T♥\n",
      "Cut       = 6♦\n",
      "\n",
      "1 Fifteens for 2\n",
      "0 Pairs for    0\n",
      "0 Runs for     0\n",
      "Flush for      0\n",
      "Nobs for       0\n",
      "-----------------\n",
      "Total          2\n",
      "\n",
      "Fifteens====\n",
      "8♣, A♥, 6♦ = 15\n",
      "\n",
      "Pairs====\n",
      "\n",
      "Runs====\n"
     ]
    }
   ],
   "source": [
    "deck = make_deck()\n",
    "m = random.sample(deck, 5)\n",
    "hand = Hand(m[:4])\n",
    "cut = m[-1]\n",
    "\n",
    "scores, counts = score_hand(hand, cut)\n",
    "display_points(hand, cut, scores, counts)"
   ]
  }
 ],
 "metadata": {
  "kernelspec": {
   "display_name": "Python 3",
   "language": "python",
   "name": "python3"
  },
  "language_info": {
   "codemirror_mode": {
    "name": "ipython",
    "version": 3
   },
   "file_extension": ".py",
   "mimetype": "text/x-python",
   "name": "python",
   "nbconvert_exporter": "python",
   "pygments_lexer": "ipython3",
   "version": "3.6.5"
  },
  "widgets": {
   "state": {},
   "version": "1.0.0"
  }
 },
 "nbformat": 4,
 "nbformat_minor": 1
}
