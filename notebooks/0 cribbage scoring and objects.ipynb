{
 "cells": [
  {
   "cell_type": "markdown",
   "metadata": {},
   "source": [
    "# Cribbage Scoring Rules and Basic Objects\n",
    "\n",
    "2021-07-03\n",
    "\n",
    "This notebook will look at the basic scoring rules and the code solutions to those rules. This series of books is really about learning and automating the games scoring. The methods should allow you to input a hand and receive the proper score for the hand with a breakdown.\n",
    "\n",
    "References:\n",
    "- https://en.wikipedia.org/wiki/Cribbage\n",
    "- https://www.pagat.com/adders/crib6.html\n",
    "- https://boardgames.stackexchange.com/questions/24509/cribbage-scoring-rules-explanation"
   ]
  },
  {
   "cell_type": "markdown",
   "metadata": {},
   "source": [
    "# Card Value\n",
    "\n",
    "The value of each card is based on the rank of the card (there are some special scoring considerations). Ace is low, the other face cards are worth 10 points.\n",
    "\n",
    "- A - The Ace is worth 1 point.\n",
    "- J, Q, K - The Jack, Queen and King are equal and worth 10 points.\n",
    "- All other cards are worth the face value of the rank."
   ]
  },
  {
   "cell_type": "markdown",
   "metadata": {},
   "source": [
    "# Scoring\n",
    "\n",
    "The key elements that we score in a cribbage hand are:\n",
    "- 15: Adding combination of cards that sum to 15 points based on the face values.\n",
    "- pair: A pair of cards is worth 2 points. All combination of pairs are counted. For example if you have a triple (3 cards), that is worth 6 points as it yields 3 pairs from the combination of cars in the triple.\n",
    "- run: Similar to a straight in poker. At least 3 cards in seqential order by rank. Receive 1 point per card in the sequence. Be mindful of combinations, for example 3,4,4,5 is two runs of 3,4,5 worth 6 points (as a run)\n",
    "- flush: 4 or 5 cards (including the cut) with the same suit. When counting the crib, only 5 card flushes are valid.\n",
    "- nobs: If the hand contains the Jack of that matches the suit of the cut card that is worth 1 point.\n",
    "- nibs/heels: If the dealer cuts a Jack, the dealer receives 2 points."
   ]
  },
  {
   "cell_type": "markdown",
   "metadata": {},
   "source": [
    "# Conventions\n",
    "\n",
    "For the code and the math we will use the following encoding conventions. The cards in a deck will be represented by two characters, the face value (A,2,3,4,5,6,7,8,9,10,J,Q,K) and the suit (S, H, D, C). So the King of Spades would be: `KS` and the Two of Diamonds would be: `2D`. Face cards have a point value of 10, the ace is 1 Point and all other cards represent their value.\n",
    "\n",
    "The player has four cards in their hand and a cut card. \n",
    "\n",
    "The following hand would be 1 pair for 2 points:  \n",
    "\n",
    "2D, 2S, KD, QD, 4C"
   ]
  },
  {
   "cell_type": "markdown",
   "metadata": {},
   "source": [
    "# Code"
   ]
  },
  {
   "cell_type": "code",
   "execution_count": 1,
   "metadata": {},
   "outputs": [
    {
     "data": {
      "application/javascript": [
       "//Disable autoscroll in the output cells\n",
       "IPython.OutputArea.prototype._should_scroll = function(lines) {\n",
       "    return false;\n",
       "}\n"
      ],
      "text/plain": [
       "<IPython.core.display.Javascript object>"
      ]
     },
     "metadata": {},
     "output_type": "display_data"
    }
   ],
   "source": [
    "%%javascript\n",
    "//Disable autoscroll in the output cells\n",
    "IPython.OutputArea.prototype._should_scroll = function(lines) {\n",
    "    return false;\n",
    "}"
   ]
  },
  {
   "cell_type": "code",
   "execution_count": 15,
   "metadata": {},
   "outputs": [],
   "source": [
    "import random\n",
    "\n",
    "from cribbage.cards import (\n",
    "    Card,\n",
    "    make_deck,\n",
    "    display_hand,\n",
    "    score_hand,\n",
    "    score_hand_breakdown,\n",
    "        \n",
    ")"
   ]
  },
  {
   "cell_type": "markdown",
   "metadata": {},
   "source": [
    "## Card\n",
    "\n",
    "Originally, the Card object was defined using a standard Python Class. We have revisted this decision and use a [Dataclass][link1]. This simplifies things quite a bit and removes a lot of boiler plate. The class itself was reduced and distilled removing things that are not required. Moving methods out to separate methods.\n",
    "\n",
    "Another big decision was removing the `Hand` class. This wasn't required and is replaced with a simple list of `Cards` and some supporting methods.\n",
    "\n",
    "The following cells will demonstrate how to use the `Card` class.\n",
    "\n",
    "\n",
    "[link1]:https://docs.python.org/3/library/dataclasses.html\n"
   ]
  },
  {
   "cell_type": "code",
   "execution_count": 7,
   "metadata": {},
   "outputs": [
    {
     "name": "stdout",
     "output_type": "stream",
     "text": [
      "Plain text:         8S\n",
      "Fancy suit:         8♠\n",
      "Fancy unicode card: 🂨\n",
      "\n",
      "8S is worth 8\n"
     ]
    }
   ],
   "source": [
    "# Define a card\n",
    "c = Card(*'8S')\n",
    "\n",
    "# NOTE: We can use the unpacking to properly unpack the string in the Card constructor. This makes creating a card\n",
    "# trivial\n",
    "\n",
    "# NOTE: The order of the string must be rank then suit. It will through an exception otherwise\n",
    "\n",
    "print(f'Plain text:         {c}')\n",
    "print(f'Fancy suit:         {c.cool_display()}')\n",
    "print(f'Fancy unicode card: {c.cool_display(display_card=True)}')\n",
    "print()\n",
    "print(f'{c} is worth {c.value()}')"
   ]
  },
  {
   "cell_type": "markdown",
   "metadata": {},
   "source": [
    "The Card object also implements sorting. This means that you can sort a list of cards and it will sort the cards by suit, then by rank. This will group cards together by suit and then rank. Not quite in the order that most cribbage players would sort a hand."
   ]
  },
  {
   "cell_type": "code",
   "execution_count": 14,
   "metadata": {},
   "outputs": [
    {
     "name": "stdout",
     "output_type": "stream",
     "text": [
      "Unsorted:  ['3♠', '4♣', '4♦', '5♥']\n",
      "Sorted:    ['5♥', '4♦', '3♠', '4♣']\n"
     ]
    }
   ],
   "source": [
    "cards = [Card(*c) for c in ('3S', '4C', '4D', '5H')]\n",
    "print('Unsorted: ', display_hand(cards, cool=True))\n",
    "\n",
    "print('Sorted:   ', display_hand(sorted(cards), cool=True))"
   ]
  },
  {
   "cell_type": "markdown",
   "metadata": {},
   "source": [
    "The unsorted hand would be how a cribbage player could organize the cards. The sorted hand sorts by suit then by rank."
   ]
  },
  {
   "cell_type": "markdown",
   "metadata": {},
   "source": [
    "# Scoring\n",
    "\n",
    "There are quite a few methods that were defined to find all fifteens, runs, pairs, etc.. There isn't a point in going through the individual methods here. They will not be used individually. This section will outline how to score a hand properly using the correct methods.\n",
    "\n",
    "The following code demonstrates creating a deck, sampling randomly from it and getting a scoring breakdown."
   ]
  },
  {
   "cell_type": "code",
   "execution_count": 26,
   "metadata": {},
   "outputs": [
    {
     "name": "stdout",
     "output_type": "stream",
     "text": [
      "Hand = ['2♦', '7♦', '5♦', '2♣'] Cut = T♣\n",
      "-----------------------\n",
      "1 Fifteens for 2\n",
      "1 Pairs for    2\n",
      "0 Runs for     0\n",
      "Flush for      0\n",
      "Nobs for       0\n",
      "Nibs for       0\n",
      "-----------------------\n",
      "Total:         4\n",
      "\n",
      "Fifteens:\n",
      "\n",
      "1 - ['5♦', 'T♣']\n",
      "\n",
      "Pairs:\n",
      "\n",
      "1, ['2♦', '2♣']\n",
      "\n"
     ]
    }
   ],
   "source": [
    "# Create a deck and take 5 cards at random. \n",
    "\n",
    "deck = make_deck()\n",
    "\n",
    "hand = list(random.sample(deck, 5))\n",
    "\n",
    "# extract the last card as the cut card\n",
    "cut = hand[-1]\n",
    "\n",
    "# exclude the cut card from the list\n",
    "hand = hand[:-1]\n",
    "\n",
    "results = score_hand_breakdown(\n",
    "    hand,\n",
    "    cut,\n",
    "    include_nibs=False,\n",
    "    five_card_flush=False,\n",
    "    basic=False,\n",
    ")\n",
    "\n",
    "print(\"\\n\".join(results))"
   ]
  },
  {
   "cell_type": "markdown",
   "metadata": {},
   "source": [
    ">NOTE: There is also the `score_hand` method which will return the score of the hand and not display the break down."
   ]
  }
 ],
 "metadata": {
  "kernelspec": {
   "display_name": "Python 3 (ipykernel)",
   "language": "python",
   "name": "python3"
  },
  "language_info": {
   "codemirror_mode": {
    "name": "ipython",
    "version": 3
   },
   "file_extension": ".py",
   "mimetype": "text/x-python",
   "name": "python",
   "nbconvert_exporter": "python",
   "pygments_lexer": "ipython3",
   "version": "3.10.1"
  },
  "widgets": {
   "state": {},
   "version": "1.0.0"
  }
 },
 "nbformat": 4,
 "nbformat_minor": 1
}
