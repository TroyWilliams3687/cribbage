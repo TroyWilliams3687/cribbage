{
 "cells": [
  {
   "cell_type": "markdown",
   "metadata": {},
   "source": [
    "# Expected Average\n",
    "\n",
    "2021-07-03\n",
    "\n",
    "What we are interested in is determining a way to rank cards in our hand. How do we decide which cards to discard before the starter or cut card is turned? We can use the concept of the expected value or expected average of a hand and discard values.\n",
    "\n",
    "According to [Wikipedia][link1], the expected value is generalization of a weighted average. We are interested in the expected average value of a typical hand discard. If we are dealt 6 cards and are required to discard 2 cards to the crib before the starter is turned. What is the expected average value of the hand we decide to keep given that we know the 6 cards we were dealt and do not exist in the deck any more.\n",
    "\n",
    "[link1]: https://en.wikipedia.org/wiki/Expected_value\n",
    "\n",
    "\n",
    "## References\n",
    "\n",
    "- https://en.wikipedia.org/wiki/Expected_value\n",
    "- http://www.cribbageforum.com/AnalyzeDiscardsPart1.htm\n",
    "- http://www.cribbageforum.com/YourCrib.htm\n"
   ]
  },
  {
   "cell_type": "code",
   "execution_count": 1,
   "metadata": {},
   "outputs": [
    {
     "data": {
      "application/javascript": [
       "//Disable autoscroll in the output cells\n",
       "IPython.OutputArea.prototype._should_scroll = function(lines) {\n",
       "    return false;\n",
       "}\n"
      ],
      "text/plain": [
       "<IPython.core.display.Javascript object>"
      ]
     },
     "metadata": {},
     "output_type": "display_data"
    }
   ],
   "source": [
    "%%javascript\n",
    "//Disable autoscroll in the output cells\n",
    "IPython.OutputArea.prototype._should_scroll = function(lines) {\n",
    "    return false;\n",
    "}"
   ]
  },
  {
   "cell_type": "code",
   "execution_count": 2,
   "metadata": {},
   "outputs": [],
   "source": [
    "import random\n",
    "\n",
    "from multiprocessing import Pool\n",
    "from functools import partial\n",
    "\n",
    "from cribbage.cards import (\n",
    "    Card,\n",
    "    make_deck,\n",
    "    display_hand,\n",
    "    score_hand,\n",
    "    score_hand_breakdown,\n",
    "    hand_combinations,        \n",
    ")\n",
    "\n",
    "from cribbage.analytics import (\n",
    "    expected_average,\n",
    "    discard_max_hand_value,\n",
    "    expected_average_crib,\n",
    ")"
   ]
  },
  {
   "cell_type": "markdown",
   "metadata": {},
   "source": [
    "# Expected Average Hand Value\n",
    "\n",
    "The calculation is not complicated. We remove the 6 cards we were dealt from the deck, leaving 46 cards. We take the 4 card hand and determine the value of that hand for every possible starter/cut card left in the deck. We sum the value of each hand and divide that by the number of potential starter cards in the deck. This will give us the expected average value for the hand.\n",
    "\n",
    "Let's assume we were dealt the following hand: 2C 3H 4D 5D 5S JS\n",
    "\n",
    "Let's analyze the following 4 card hand: 3H, 4H, 5C, 5D, what can we expect in terms of the cut card? That is, based on what could be turned up as the cut card what kind of points can be expected, on average? \n",
    "\n",
    "We need to remove the cards that we know about from the deck so that we have $52 - 6 = 46$\n",
    "\n",
    "| Starter | Card Frequency | Hand Value | Total |\n",
    "|:-------:|:--------------:|:----------:|:-----:|\n",
    "|A        |4               |   10       |     40|  \n",
    "|2        |3               |   12       |     36|  \n",
    "|3        |3               |   20       |     60|  \n",
    "|4        |3               |   16       |     48|  \n",
    "|5        |2               |   17       |     34|  \n",
    "|6        |4               |   14       |     56|  \n",
    "|7        |4               |   12       |     48|  \n",
    "|8        |4               |   10       |     40|  \n",
    "|9        |4               |   8        |     32|  \n",
    "|10       |4               |   12       |     48|  \n",
    "|J        |3               |   12       |     36|  \n",
    "|Q        |4               |   12       |     48|  \n",
    "|K        |4               |   12       |     48|\n",
    "|         |                |   *Total:* |    574|\n",
    "\n",
    "for the 4 card hand, the average points would be: $\\frac{574}{46} = 12.48$\n",
    "\n",
    "Table columns:\n",
    "- Starter - This column simply lists the potential cut card.\n",
    "- Card Frequency - This is the number of cards in the deck that are left based on the 6 cards you are dealt. For example, if I was dealt 2 aces, that would mean there are only two aces left in the deck. \n",
    "- Hand Value - This is the value of the hand including the cut/starter card\n",
    "- Total - This is the product of the card frequency and hand value. Basically it is a weighting factor.\n",
    "\n",
    "You sum the value in the total column and divide by the number of cards left in the deck, $52 - 6 = 46$ (weighted average). "
   ]
  },
  {
   "cell_type": "code",
   "execution_count": 3,
   "metadata": {},
   "outputs": [
    {
     "name": "stdout",
     "output_type": "stream",
     "text": [
      "Hand    = ['3♥', '4♦', '5♦', '5♠']\n",
      "Discard = ['2♣', 'J♠']\n",
      "Hand Value = 8\n",
      "Average Value = 12.478\n"
     ]
    }
   ],
   "source": [
    "cards = [Card(*c) for c in ('2C', '3H', '4D', '5D', '5S', 'JS')]\n",
    "\n",
    "hand = [Card(*c) for c in ('3H', '4D', '5D', '5S')]\n",
    "discard  = [Card(*c) for c in ('2C', 'JS')]\n",
    "\n",
    "hand_average = expected_average(hand, discard)\n",
    "hand_value = score_hand(hand, None)\n",
    "\n",
    "print(f\"Hand    = {display_hand(hand, cool=True)}\")\n",
    "print(f\"Discard = {display_hand(discard, cool=True)}\")\n",
    "\n",
    "print(f\"Hand Value = {hand_value}\")\n",
    "print(f\"Average Value = {hand_average:.3f}\")"
   ]
  },
  {
   "cell_type": "code",
   "execution_count": 4,
   "metadata": {},
   "outputs": [
    {
     "name": "stdout",
     "output_type": "stream",
     "text": [
      "Dealt   = ['J♥', '3♠', '2♥', 'T♠', 'J♦', 'J♣']\n",
      "Hand    = ['J♥', '3♠', '2♥', 'T♠']\n",
      "Discard = ['J♦', 'J♣']\n",
      "Hand Value = 4\n",
      "Average Value = 6.848\n"
     ]
    }
   ],
   "source": [
    "# Create a deck\n",
    "deck = make_deck()\n",
    "\n",
    "# get 6 cards\n",
    "cards = list(random.sample(deck, 6))\n",
    "\n",
    "# extract the discard\n",
    "discard = cards[-2:]\n",
    "\n",
    "# exclude the discard from the hand\n",
    "hand = cards[:-2]\n",
    "\n",
    "hand_average = expected_average(hand, discard)\n",
    "hand_value = score_hand(hand, None)\n",
    "\n",
    "print(f\"Dealt   = {display_hand(cards, cool=True)}\")\n",
    "print(f\"Hand    = {display_hand(hand, cool=True)}\")\n",
    "print(f\"Discard = {display_hand(discard, cool=True)}\")\n",
    "\n",
    "print(f\"Hand Value = {hand_value}\")\n",
    "print(f\"Average Value = {hand_average:.3f}\")"
   ]
  },
  {
   "cell_type": "markdown",
   "metadata": {},
   "source": [
    "We could analyze 4 cards and assume no knowledge of the other cards in the deck. We could also add more cards to the discard, cards that we know are not in the deck."
   ]
  },
  {
   "cell_type": "markdown",
   "metadata": {},
   "source": [
    "# Determine Best Discard - Maximize Hand Expected Average\n",
    "\n",
    "Now that we can calculate the expected average for any particular combination of hand cards and discard cards. We can use that to find the best set of cards to keep (or discard depending on how you look at it). This method will only attempt to maximize the expected average of the cards you keep in your hand. This may not be the best strategy overall. That may depend on being the dealer or the pone (you may want to maximize the cards in your crib or minimize the value of the dealer's crib).\n",
    "\n",
    "\n",
    "We'll iterate through all of the 4 card combinations and choose the one with the largest expected average.\n"
   ]
  },
  {
   "cell_type": "code",
   "execution_count": 5,
   "metadata": {},
   "outputs": [
    {
     "name": "stdout",
     "output_type": "stream",
     "text": [
      "Hand = ['K♥', 'A♦', '7♦', '9♦'], value = 0, average = 2.457\n",
      "Hand = ['K♥', '7♦', '9♦', '8♣'], value = 5, average = 6.804\n",
      "Hand = ['K♥', '7♦', '9♦', 'J♦'], value = 0, average = 2.609\n",
      "Hand = ['K♥', 'A♦', '7♦', '8♣'], value = 2, average = 3.891\n",
      "Hand = ['K♥', 'A♦', '7♦', 'J♦'], value = 0, average = 2.717\n",
      "Hand = ['K♥', '7♦', 'J♦', '8♣'], value = 2, average = 4.043\n",
      "Hand = ['K♥', 'A♦', '9♦', '8♣'], value = 0, average = 1.717\n",
      "Hand = ['K♥', 'A♦', '9♦', 'J♦'], value = 0, average = 2.804\n",
      "Hand = ['K♥', '9♦', 'J♦', '8♣'], value = 0, average = 1.826\n",
      "Hand = ['K♥', 'A♦', 'J♦', '8♣'], value = 0, average = 1.978\n",
      "Hand = ['A♦', '7♦', '9♦', '8♣'], value = 5, average = 7.891\n",
      "Hand = ['A♦', '7♦', '9♦', 'J♦'], value = 4, average = 6.065\n",
      "Hand = ['7♦', '9♦', 'J♦', '8♣'], value = 5, average = 7.783\n",
      "Hand = ['A♦', '7♦', 'J♦', '8♣'], value = 2, average = 4.870\n",
      "Hand = ['A♦', '9♦', 'J♦', '8♣'], value = 0, average = 2.696\n"
     ]
    }
   ],
   "source": [
    "cards = [Card(*'KH'), Card(*'7D'), Card(*'9D'), Card(*'AD'), Card(*'8C'), Card(*'JD')] \n",
    "\n",
    "for i, hand in enumerate(hand_combinations(cards, combination_length=4)):\n",
    "    value = score_hand(list(hand), None)\n",
    "    \n",
    "    # use a set to figure out what cards were discarded\n",
    "    discard = list(set(cards) - set(hand))\n",
    "\n",
    "    average = expected_average(\n",
    "        list(hand),\n",
    "        discard,\n",
    "    )\n",
    "   \n",
    "    print(f'Hand = {display_hand(sorted(hand), cool=True)}, value = {value}, average = {average:.3f}')"
   ]
  },
  {
   "cell_type": "code",
   "execution_count": 6,
   "metadata": {},
   "outputs": [
    {
     "name": "stdout",
     "output_type": "stream",
     "text": [
      "Dealt   = ['K♥', '7♦', '9♦', 'A♦', '8♣', 'J♦']\n",
      "Hand    = ['7♦', '9♦', '8♣', 'J♦']\n",
      "Discard = ['K♥', 'A♦']\n",
      "Hand Value = 5\n",
      "Average Value = 7.783\n"
     ]
    }
   ],
   "source": [
    "hand = [Card(*'7D'), Card(*'9D'), Card(*'8C'), Card(*'JD')]\n",
    "discard = [Card(*'KH'), Card(*'AD')]\n",
    "\n",
    "hand_average = expected_average(hand, discard)\n",
    "hand_value = score_hand(hand, None)\n",
    "\n",
    "print(f\"Dealt   = {display_hand(cards, cool=True)}\")\n",
    "print(f\"Hand    = {display_hand(hand, cool=True)}\")\n",
    "print(f\"Discard = {display_hand(discard, cool=True)}\")\n",
    "\n",
    "print(f\"Hand Value = {hand_value}\")\n",
    "print(f\"Average Value = {hand_average:.3f}\")"
   ]
  },
  {
   "cell_type": "markdown",
   "metadata": {},
   "source": [
    "A random deck"
   ]
  },
  {
   "cell_type": "code",
   "execution_count": 7,
   "metadata": {},
   "outputs": [
    {
     "name": "stdout",
     "output_type": "stream",
     "text": [
      "Hand = ['K♦', '8♠', '5♣', '7♣'], value = 4, average = 6.478\n",
      "Hand = ['K♦', 'A♣', '5♣', '7♣'], value = 2, average = 5.348\n",
      "Hand = ['K♦', 'J♠', '5♣', '7♣'], value = 4, average = 6.457\n",
      "Hand = ['8♠', 'A♣', '5♣', '7♣'], value = 2, average = 6.000\n",
      "Hand = ['8♠', 'J♠', '5♣', '7♣'], value = 4, average = 6.717\n",
      "Hand = ['J♠', 'A♣', '5♣', '7♣'], value = 2, average = 5.587\n",
      "Hand = ['K♦', '8♠', 'A♣', '7♣'], value = 2, average = 3.913\n",
      "Hand = ['K♦', '8♠', 'J♠', '7♣'], value = 2, average = 4.065\n",
      "Hand = ['K♦', 'J♠', 'A♣', '7♣'], value = 0, average = 1.891\n",
      "Hand = ['8♠', 'J♠', 'A♣', '7♣'], value = 2, average = 4.152\n",
      "Hand = ['K♦', '8♠', 'A♣', '5♣'], value = 2, average = 4.217\n",
      "Hand = ['K♦', '8♠', 'J♠', '5♣'], value = 4, average = 6.196\n",
      "Hand = ['K♦', 'J♠', 'A♣', '5♣'], value = 4, average = 6.413\n",
      "Hand = ['8♠', 'J♠', 'A♣', '5♣'], value = 2, average = 4.457\n",
      "Hand = ['K♦', '8♠', 'J♠', 'A♣'], value = 0, average = 1.935\n"
     ]
    }
   ],
   "source": [
    "# Create a deck\n",
    "deck = make_deck()\n",
    "\n",
    "# get 6 cards\n",
    "cards = list(random.sample(deck, 6))\n",
    "\n",
    "for i, hand in enumerate(hand_combinations(cards, combination_length=4)):\n",
    "    value = score_hand(list(hand), None)\n",
    "    \n",
    "    # use a set to figure out what cards were discarded\n",
    "    discard = list(set(cards) - set(hand))\n",
    "\n",
    "    average = expected_average(\n",
    "        list(hand),\n",
    "        discard,\n",
    "    )\n",
    "   \n",
    "    print(f'Hand = {display_hand(sorted(hand), cool=True)}, value = {value}, average = {average:.3f}')"
   ]
  },
  {
   "cell_type": "code",
   "execution_count": 8,
   "metadata": {},
   "outputs": [
    {
     "name": "stdout",
     "output_type": "stream",
     "text": [
      "\n",
      "Hand = ['A♦', '7♦', '9♦', '8♣']\n",
      "Discard = ['K♥', 'J♦']\n",
      "Value = 5\n",
      "Average Value = 7.891\n",
      "\n",
      " 0 Hand = ['7♦', '9♦', 'J♦', '8♣'], value = 5, average = 7.783\n",
      " 1 Hand = ['K♥', '7♦', '9♦', '8♣'], value = 5, average = 6.804\n",
      " 2 Hand = ['A♦', '7♦', '9♦', '8♣'], value = 5, average = 7.891\n",
      " 3 Hand = ['K♥', '7♦', '9♦', 'J♦'], value = 0, average = 2.609\n",
      " 4 Hand = ['A♦', '7♦', '9♦', 'J♦'], value = 4, average = 6.065\n",
      " 5 Hand = ['K♥', 'A♦', '7♦', '9♦'], value = 0, average = 2.457\n",
      " 6 Hand = ['K♥', '7♦', 'J♦', '8♣'], value = 2, average = 4.043\n",
      " 7 Hand = ['A♦', '7♦', 'J♦', '8♣'], value = 2, average = 4.870\n",
      " 8 Hand = ['K♥', 'A♦', '7♦', '8♣'], value = 2, average = 3.891\n",
      " 9 Hand = ['K♥', 'A♦', '7♦', 'J♦'], value = 0, average = 2.717\n",
      "10 Hand = ['K♥', '9♦', 'J♦', '8♣'], value = 0, average = 1.826\n",
      "11 Hand = ['A♦', '9♦', 'J♦', '8♣'], value = 0, average = 2.696\n",
      "12 Hand = ['K♥', 'A♦', '9♦', '8♣'], value = 0, average = 1.717\n",
      "13 Hand = ['K♥', 'A♦', '9♦', 'J♦'], value = 0, average = 2.804\n",
      "14 Hand = ['K♥', 'A♦', 'J♦', '8♣'], value = 0, average = 1.978\n"
     ]
    }
   ],
   "source": [
    "cards = [Card(*'7D'), Card(*'9D'), Card(*'8C'), Card(*'JD'), Card(*'KH'), Card(*'AD')]\n",
    "\n",
    "result = discard_max_hand_value(cards)\n",
    "\n",
    "hand = result['best_hand']\n",
    "discard = result['best_discard']\n",
    "hand_average = result['best_average']\n",
    "hand_value = score_hand(hand, None)\n",
    "\n",
    "print()\n",
    "print(f\"Hand = {display_hand(hand, cool=True)}\")\n",
    "print(f\"Discard = {display_hand(discard, cool=True)}\")\n",
    "print(f\"Value = {hand_value}\")\n",
    "print(f\"Average Value = {hand_average:.3f}\")\n",
    "print()\n",
    "\n",
    "for row in result['messages']:\n",
    "    print(row)\n"
   ]
  },
  {
   "cell_type": "code",
   "execution_count": 9,
   "metadata": {},
   "outputs": [
    {
     "name": "stdout",
     "output_type": "stream",
     "text": [
      "\n",
      "Hand = ['9♥', '2♦', '9♦', '4♠']\n",
      "Discard = ['Q♥', '6♣']\n",
      "Value = 6\n",
      "Average Value = 7.565\n",
      "\n",
      " 0 Hand = ['9♥', '2♦', '9♦', '6♣'], value = 6, average = 7.217\n",
      " 1 Hand = ['9♥', '2♦', '9♦', '4♠'], value = 6, average = 7.565\n",
      " 2 Hand = ['9♥', 'Q♥', '2♦', '9♦'], value = 2, average = 3.304\n",
      " 3 Hand = ['2♦', '9♦', '4♠', '6♣'], value = 4, average = 6.087\n",
      " 4 Hand = ['Q♥', '2♦', '9♦', '6♣'], value = 2, average = 3.348\n",
      " 5 Hand = ['Q♥', '2♦', '9♦', '4♠'], value = 2, average = 3.739\n",
      " 6 Hand = ['9♥', '2♦', '4♠', '6♣'], value = 4, average = 6.087\n",
      " 7 Hand = ['9♥', 'Q♥', '2♦', '6♣'], value = 2, average = 3.348\n",
      " 8 Hand = ['9♥', 'Q♥', '2♦', '4♠'], value = 2, average = 3.739\n",
      " 9 Hand = ['Q♥', '2♦', '4♠', '6♣'], value = 0, average = 2.261\n",
      "10 Hand = ['9♥', '9♦', '4♠', '6♣'], value = 6, average = 7.478\n",
      "11 Hand = ['9♥', 'Q♥', '9♦', '6♣'], value = 6, average = 6.957\n",
      "12 Hand = ['9♥', 'Q♥', '9♦', '4♠'], value = 2, average = 3.304\n",
      "13 Hand = ['Q♥', '9♦', '4♠', '6♣'], value = 2, average = 3.609\n",
      "14 Hand = ['9♥', 'Q♥', '4♠', '6♣'], value = 2, average = 3.609\n"
     ]
    }
   ],
   "source": [
    "# Create a deck\n",
    "deck = make_deck()\n",
    "\n",
    "# get 6 cards\n",
    "cards = list(random.sample(deck, 6))\n",
    "\n",
    "\n",
    "result = discard_max_hand_value(cards)\n",
    "\n",
    "hand = result['best_hand']\n",
    "discard = result['best_discard']\n",
    "hand_average = result['best_average']\n",
    "hand_value = score_hand(hand, None)\n",
    "\n",
    "print()\n",
    "print(f\"Hand = {display_hand(hand, cool=True)}\")\n",
    "print(f\"Discard = {display_hand(discard, cool=True)}\")\n",
    "print(f\"Value = {hand_value}\")\n",
    "print(f\"Average Value = {hand_average:.3f}\")\n",
    "print()\n",
    "\n",
    "for row in result['messages']:\n",
    "    print(row)\n"
   ]
  },
  {
   "cell_type": "code",
   "execution_count": null,
   "metadata": {},
   "outputs": [],
   "source": []
  },
  {
   "cell_type": "code",
   "execution_count": null,
   "metadata": {},
   "outputs": [],
   "source": []
  },
  {
   "cell_type": "code",
   "execution_count": null,
   "metadata": {},
   "outputs": [],
   "source": []
  },
  {
   "cell_type": "code",
   "execution_count": null,
   "metadata": {},
   "outputs": [],
   "source": []
  },
  {
   "cell_type": "markdown",
   "metadata": {},
   "source": [
    "# NOTE - Expected Average Larger\n",
    "\n",
    "We calculate the average of each hand and score that hand with the particular cut card. The typical analysis done on the internet doesn't look at the numbers in that detail. The following shows the differences. If you look at the table from the begining of the section, it is assumed that if you have 4 Aces, for example, they will produce hands of the same value.\n",
    "\n",
    "| Starter | Card Frequency | Hand Value | Total |\n",
    "|:-------:|:--------------:|:----------:|:-----:|\n",
    "|A        |4               |   10       |     40|  \n",
    "|2        |3               |   12       |     36|  \n",
    "|3        |3               |   20       |     60|  \n",
    "|4        |3               |   16       |     48|  \n",
    "|5        |2               |   17       |     34|  \n",
    "|6        |4               |   14       |     56|  \n",
    "|7        |4               |   12       |     48|  \n",
    "|8        |4               |   10       |     40|  \n",
    "|9        |4               |   8        |     32|  \n",
    "|10       |4               |   12       |     48|  \n",
    "|J        |3               |   12       |     36|  \n",
    "|Q        |4               |   12       |     48|  \n",
    "|K        |4               |   12       |     48|\n",
    "|         |                |   *Total:* |    574|\n",
    "\n",
    "Under this assumption, the following set of cards would yield an average of 7.1957, below:"
   ]
  },
  {
   "cell_type": "raw",
   "metadata": {},
   "source": [
    "Candidate Hand = [K♥, 7♦, 9♦, A♦, 8♣, J♦] \n",
    "-------\n",
    "Hand = [A♦, 7♦, 9♦, K♥], value = 0, average = 1.6739\n",
    "Hand = [7♦, 8♣, 9♦, K♥], value = 5, average = 6.8913\n",
    "Hand = [7♦, 9♦, J♦, K♥], value = 0, average = 2.0870\n",
    "Hand = [A♦, 7♦, 8♣, K♥], value = 2, average = 3.8913\n",
    "Hand = [A♦, 7♦, J♦, K♥], value = 0, average = 1.9348\n",
    "Hand = [7♦, 8♣, J♦, K♥], value = 2, average = 4.0435\n",
    "Hand = [A♦, 8♣, 9♦, K♥], value = 0, average = 1.9783\n",
    "Hand = [A♦, 9♦, J♦, K♥], value = 0, average = 2.2826\n",
    "Hand = [8♣, 9♦, J♦, K♥], value = 0, average = 2.1739\n",
    "Hand = [A♦, 8♣, J♦, K♥], value = 0, average = 1.9783\n",
    "Hand = [A♦, 7♦, 8♣, 9♦], value = 5, average = 7.1957\n",
    "Hand = [A♦, 7♦, 9♦, J♦], value = 4, average = 6.3261\n",
    "Hand = [7♦, 8♣, 9♦, J♦], value = 5, average = 7.1739\n",
    "Hand = [A♦, 7♦, 8♣, J♦], value = 2, average = 4.0870\n",
    "Hand = [A♦, 8♣, 9♦, J♦], value = 0, average = 2.2609\n",
    "---------\n",
    "Best Hand      = [A♦, 7♦, 8♣, 9♦]\n",
    "Hand Value     = 5\n",
    "\n",
    "Average hand value = 7.1957"
   ]
  },
  {
   "cell_type": "markdown",
   "metadata": {},
   "source": [
    "If we calcualte the actual value of the hand, including the suits, we get the following results (A higher expected average):"
   ]
  },
  {
   "cell_type": "code",
   "execution_count": 10,
   "metadata": {},
   "outputs": [
    {
     "name": "stdout",
     "output_type": "stream",
     "text": [
      "Cut AH; Hand Value = 5\n",
      "Cut AC; Hand Value = 5\n",
      "Cut AS; Hand Value = 5\n",
      "Cut 2D; Hand Value = 10\n",
      "Cut 2H; Hand Value = 5\n",
      "Cut 2C; Hand Value = 5\n",
      "Cut 2S; Hand Value = 5\n",
      "Cut 3D; Hand Value = 10\n",
      "Cut 3H; Hand Value = 5\n",
      "Cut 3C; Hand Value = 5\n",
      "Cut 3S; Hand Value = 5\n",
      "Cut 4D; Hand Value = 10\n",
      "Cut 4H; Hand Value = 5\n",
      "Cut 4C; Hand Value = 5\n",
      "Cut 4S; Hand Value = 5\n",
      "Cut 5D; Hand Value = 12\n",
      "Cut 5H; Hand Value = 7\n",
      "Cut 5C; Hand Value = 7\n",
      "Cut 5S; Hand Value = 7\n",
      "Cut 6D; Hand Value = 13\n",
      "Cut 6H; Hand Value = 8\n",
      "Cut 6C; Hand Value = 8\n",
      "Cut 6S; Hand Value = 8\n",
      "Cut 7H; Hand Value = 12\n",
      "Cut 7C; Hand Value = 12\n",
      "Cut 7S; Hand Value = 12\n",
      "Cut 8D; Hand Value = 17\n",
      "Cut 8H; Hand Value = 12\n",
      "Cut 8S; Hand Value = 12\n",
      "Cut 9H; Hand Value = 10\n",
      "Cut 9C; Hand Value = 10\n",
      "Cut 9S; Hand Value = 10\n",
      "Cut TD; Hand Value = 10\n",
      "Cut TH; Hand Value = 5\n",
      "Cut TC; Hand Value = 5\n",
      "Cut TS; Hand Value = 5\n",
      "Cut JH; Hand Value = 7\n",
      "Cut JC; Hand Value = 7\n",
      "Cut JS; Hand Value = 7\n",
      "Cut QD; Hand Value = 10\n",
      "Cut QH; Hand Value = 5\n",
      "Cut QC; Hand Value = 5\n",
      "Cut QS; Hand Value = 5\n",
      "Cut KD; Hand Value = 10\n",
      "Cut KC; Hand Value = 5\n",
      "Cut KS; Hand Value = 5\n",
      "7.782608695652174\n"
     ]
    }
   ],
   "source": [
    "hand = [Card(*'7D'), Card(*'9D'), Card(*'8C'), Card(*'JD')]\n",
    "discard = [Card(*'KH'), Card(*'AD')]\n",
    "\n",
    "cards = hand + discard\n",
    "\n",
    "deck = [c for c in make_deck() if c not in cards]\n",
    "\n",
    "total = 0\n",
    "for i, cut in enumerate(deck):\n",
    "    hand_value = score_hand(hand, cut)    \n",
    "    total += hand_value\n",
    "    print(f\"Cut {cut}; Hand Value = {hand_value}\")\n",
    "    \n",
    "print(total/len(deck))"
   ]
  },
  {
   "cell_type": "code",
   "execution_count": 11,
   "metadata": {},
   "outputs": [
    {
     "name": "stdout",
     "output_type": "stream",
     "text": [
      "Dealt   = ['7♦', '9♦', '8♣', 'J♦', 'K♥', 'A♦']\n",
      "Hand    = ['7♦', '9♦', '8♣', 'J♦']\n",
      "Discard = ['K♥', 'A♦']\n",
      "Hand Value = 5\n",
      "Average Value = 7.783\n"
     ]
    }
   ],
   "source": [
    "hand = [Card(*'7D'), Card(*'9D'), Card(*'8C'), Card(*'JD')]\n",
    "discard = [Card(*'KH'), Card(*'AD')]\n",
    "\n",
    "hand_average = expected_average(hand, discard)\n",
    "hand_value = score_hand(hand, None)\n",
    "\n",
    "print(f\"Dealt   = {display_hand(cards, cool=True)}\")\n",
    "print(f\"Hand    = {display_hand(hand, cool=True)}\")\n",
    "print(f\"Discard = {display_hand(discard, cool=True)}\")\n",
    "\n",
    "print(f\"Hand Value = {hand_value}\")\n",
    "print(f\"Average Value = {hand_average:.3f}\")"
   ]
  },
  {
   "cell_type": "markdown",
   "metadata": {},
   "source": [
    "I believe this was a simplifying assumption to make the analysis easier. \n",
    "\n",
    ">NOTE: My code and the basic hand analysis agree in terms of expected average values."
   ]
  },
  {
   "cell_type": "markdown",
   "metadata": {},
   "source": [
    "## Section Summary\n",
    "\n",
    "At this point, we can calculate the optimal cards to discard from your hand. But how does that effect the crib. We'll explore that in the next section"
   ]
  },
  {
   "cell_type": "markdown",
   "metadata": {},
   "source": [
    "# Crib - Expected Average Value\n",
    "\n",
    "We can determine the expected average for any particular crib hand, can we do the same thing for the crib value? Yes, we can. This will lead us to a discard strategy depending whether we are the dealer or pone. Looking at the internet there are some resources. There are also many books. Here are a few:\n",
    "\n",
    "- https://cliambrown.com/cribbage/methodology.php\n",
    "- http://www.cribbageforum.com/YourCrib.htm\n",
    "\n",
    "Unfortunately, they only provide simplified tables and nothing too in depth to be able to perform the calculations from first principles. It seems they may have been calculated on ancient machines. We'll follow the same approach we took in determining the expected average value for the hand.\n",
    "\n",
    "## Method\n",
    "\n",
    "What we'll do is:\n",
    "\n",
    "1. Take the discard and pair them with all two card combinations remaining in the deck\n",
    "1. Take a starter from the deck\n",
    "1. Score these crib along with the starter and determine its average value\n",
    "1. Search for the maximum value and the minimum value"
   ]
  },
  {
   "cell_type": "markdown",
   "metadata": {},
   "source": [
    "Given a 6 card hand and 2 cards to discard to the crib. What is the average crib value?\n",
    "\n",
    "We will calculate this by \n",
    "\n",
    "1. Creating a deck of cards and removing the 6 cards from the initial hand\n",
    "2. Iterate through all 2 card combinations left within the deck\n",
    "3. Combine the 2 cards with the discarded cards to form the crib\n",
    "4. calculated the expected average of the crib combination - use the hand of cards that we keep as the discard to the method expected_average\n",
    "5. accumulate the average crib values and the total number of cribs considered\n",
    "6. divide the total by the number of crib hands to determine the crib average"
   ]
  },
  {
   "cell_type": "code",
   "execution_count": 13,
   "metadata": {},
   "outputs": [
    {
     "name": "stdout",
     "output_type": "stream",
     "text": [
      "---------------\n",
      "Dealt   = ['7♦', '9♦', '8♣', 'J♦', 'K♥', 'A♦']\n",
      "Hand    = ['7♦', '9♦', '8♣', 'J♦']\n",
      "Discard = ['K♥', 'A♦']\n",
      "Hand Value = 5\n",
      "Average Value = 7.783\n",
      "Crib Average = 4.005\n"
     ]
    }
   ],
   "source": [
    "hand = [Card(*'7D'), Card(*'9D'), Card(*'8C'), Card(*'JD')]\n",
    "discard = [Card(*'KH'), Card(*'AD')]\n",
    "\n",
    "cards = hand + discard\n",
    "\n",
    "# remove the cards from the deck, this one will be for determing the two cards to finish the crib\n",
    "deck = [c for c in make_deck() if c not in cards]\n",
    "\n",
    "\n",
    "# max_value = 0\n",
    "# max_crib = None\n",
    "\n",
    "crib_averages = []\n",
    "# iterate through every two card combination left in the deck so we can form a crib\n",
    "for i, right in enumerate(hand_combinations(deck, combination_length=2), start = 1):\n",
    "    crib = discard + list(right)\n",
    "    \n",
    "    hand_average = expected_average(crib, hand) # use the hand as the discard i.e. we know about those values    \n",
    "#     print(f'{i:>3} Crib = {display_hand(crib, cool=True)} = {hand_average:.3f}')    \n",
    "    \n",
    "    crib_averages.append(hand_average)\n",
    "\n",
    "crib_average = sum(crib_averages)/len(crib_averages)\n",
    "\n",
    "print('---------------')\n",
    "print(f\"Dealt   = {display_hand(cards, cool=True)}\")\n",
    "print(f\"Hand    = {display_hand(hand, cool=True)}\")\n",
    "print(f\"Discard = {display_hand(discard, cool=True)}\")\n",
    "\n",
    "hand_average = expected_average(hand, discard)\n",
    "hand_value = score_hand(hand, None)\n",
    "\n",
    "print(f\"Hand Value = {hand_value}\")\n",
    "print(f\"Average Value = {hand_average:.3f}\")\n",
    "\n",
    "print(f'Crib Average = {crib_average:.3f}')"
   ]
  },
  {
   "cell_type": "code",
   "execution_count": 14,
   "metadata": {},
   "outputs": [
    {
     "name": "stdout",
     "output_type": "stream",
     "text": [
      "---------------\n",
      "Dealt   = ['7♦', '9♦', '8♣', 'J♦', 'K♥', 'A♦']\n",
      "Hand    = ['7♦', '9♦', '8♣', 'J♦']\n",
      "Discard = ['K♥', 'A♦']\n",
      "Hand Value = 5\n",
      "Average Value = 7.783\n",
      "Crib Average = 4.005\n"
     ]
    }
   ],
   "source": [
    "hand = [Card(*'7D'), Card(*'9D'), Card(*'8C'), Card(*'JD')]\n",
    "discard = [Card(*'KH'), Card(*'AD')]\n",
    "\n",
    "crib_average = expected_average_crib(hand, discard)\n",
    "\n",
    "print('---------------')\n",
    "print(f\"Dealt   = {display_hand(hand + discard, cool=True)}\")\n",
    "print(f\"Hand    = {display_hand(hand, cool=True)}\")\n",
    "print(f\"Discard = {display_hand(discard, cool=True)}\")\n",
    "\n",
    "hand_average = expected_average(hand, discard)\n",
    "hand_value = score_hand(hand, None)\n",
    "\n",
    "print(f\"Hand Value = {hand_value}\")\n",
    "print(f\"Average Value = {hand_average:.3f}\")\n",
    "\n",
    "print(f'Crib Average = {crib_average:.3f}')"
   ]
  },
  {
   "cell_type": "markdown",
   "metadata": {},
   "source": [
    "## Multiprocessing"
   ]
  },
  {
   "cell_type": "code",
   "execution_count": 15,
   "metadata": {},
   "outputs": [],
   "source": [
    "def _calc_crib_average(pair, discard=None, base_cards=None):\n",
    "    \"\"\"\n",
    "    Form a crib hand from the two base_cards and the cards in the pair. \n",
    "    Provide discard cards to get a better estimate of the average.\n",
    "    \n",
    "    Returns the result\n",
    "    \n",
    "    This is for multiprocessing.\n",
    "    \n",
    "    \"\"\"\n",
    "    \n",
    "    assert len(base_cards) == 2\n",
    "    assert len(pair) == 2\n",
    "    \n",
    "    crib = base_cards + list(pair)\n",
    "    \n",
    "    # use the hand as the discard i.e. we know about those values    \n",
    "    hand_average = expected_average(crib, discard) \n",
    "    \n",
    "    return hand_average"
   ]
  },
  {
   "cell_type": "code",
   "execution_count": 16,
   "metadata": {},
   "outputs": [
    {
     "name": "stdout",
     "output_type": "stream",
     "text": [
      "---------------\n",
      "Dealt   = ['7♦', '9♦', '8♣', 'J♦', 'K♥', 'A♦']\n",
      "Hand    = ['7♦', '9♦', '8♣', 'J♦']\n",
      "Discard = ['K♥', 'A♦']\n",
      "Hand Value = 5\n",
      "Average Value = 7.783\n",
      "Crib Average = 4.005\n"
     ]
    }
   ],
   "source": [
    "hand = [Card(*'7D'), Card(*'9D'), Card(*'8C'), Card(*'JD')]\n",
    "discard = [Card(*'KH'), Card(*'AD')]\n",
    "\n",
    "cards = hand + discard\n",
    "\n",
    "# remove the cards from the deck, this one will be for determing the two cards to finish the crib\n",
    "deck = [c for c in make_deck() if c not in hand + discard]\n",
    "\n",
    "fn = partial(_calc_crib_average, discard=hand, base_cards=discard)\n",
    "\n",
    "# Use max cores\n",
    "with Pool(processes=None) as p:\n",
    "    crib_averages = p.map(fn, hand_combinations(deck, combination_length=2))\n",
    "\n",
    "crib_average = sum(crib_averages)/len(crib_averages)\n",
    "\n",
    "print('---------------')\n",
    "print(f\"Dealt   = {display_hand(cards, cool=True)}\")\n",
    "print(f\"Hand    = {display_hand(hand, cool=True)}\")\n",
    "print(f\"Discard = {display_hand(discard, cool=True)}\")\n",
    "\n",
    "hand_average = expected_average(hand, discard)\n",
    "hand_value = score_hand(hand, None)\n",
    "\n",
    "print(f\"Hand Value = {hand_value}\")\n",
    "print(f\"Average Value = {hand_average:.3f}\")\n",
    "\n",
    "print(f'Crib Average = {crib_average:.3f}')"
   ]
  },
  {
   "cell_type": "code",
   "execution_count": null,
   "metadata": {},
   "outputs": [],
   "source": []
  },
  {
   "cell_type": "code",
   "execution_count": null,
   "metadata": {},
   "outputs": [],
   "source": []
  },
  {
   "cell_type": "code",
   "execution_count": null,
   "metadata": {},
   "outputs": [],
   "source": []
  },
  {
   "cell_type": "code",
   "execution_count": null,
   "metadata": {},
   "outputs": [],
   "source": []
  },
  {
   "cell_type": "code",
   "execution_count": null,
   "metadata": {},
   "outputs": [],
   "source": []
  },
  {
   "cell_type": "code",
   "execution_count": null,
   "metadata": {},
   "outputs": [],
   "source": []
  },
  {
   "cell_type": "markdown",
   "metadata": {},
   "source": [
    "=====================\n",
    "Old stuff below"
   ]
  },
  {
   "cell_type": "markdown",
   "metadata": {},
   "source": [
    "These numbers agree with what I have in the books and tables on the internet. I think these values will be more accurate because it does take into account flushes, nobs and other things that I think the other approaches don't accommodate for. "
   ]
  },
  {
   "cell_type": "markdown",
   "metadata": {},
   "source": [
    "# Analyze Average Discard Value\n",
    "\n",
    "- https://cliambrown.com/cribbage/methodology.php\n",
    "- http://www.cribbageforum.com/YourCrib.htm\n",
    "\n",
    "There are only discard tables available. I think I need to follow the same approach as the previous section.\n",
    "\n",
    "1. Take the cards to discard and pair them with two other cards from the remaining cards\n",
    "1. Take a starter from the deck\n",
    "1. score these crib along with the starter and determine its average value\n",
    "1. Search for the maximum value and the minimum value"
   ]
  },
  {
   "cell_type": "code",
   "execution_count": null,
   "metadata": {
    "ExecuteTime": {
     "end_time": "2018-07-01T15:09:45.695288Z",
     "start_time": "2018-07-01T15:09:45.677672Z"
    }
   },
   "outputs": [],
   "source": [
    "def average_crib_value(deck, discard, **kwargs):\n",
    "    \"\"\"\n",
    "    The player is dealt 6 cards which are removed from \n",
    "    the deck. They have picked 2 cards to discard to the crib.    \n",
    "    This method calculates the average crib value, \n",
    "    given the remaining cards in the deck (46) and 2 discard cards\n",
    "    intended for the crib.\n",
    "    \n",
    "    Essentially, it uses the remaining cards in the deck, each pair in turn, \n",
    "    as the potential crib mates and an extra card for the starter. \n",
    "    \n",
    "    Parameters\n",
    "    ----------\n",
    "    deck - iterable - a list of cards that are remaining in the deck. There should be 46.\n",
    "    discard - Hand object - a list of cards that will be part of the crib. There should be 2 cards.\n",
    "    \n",
    "    Returns\n",
    "    -------\n",
    "    \n",
    "    The average crib value.\n",
    "    \n",
    "    \"\"\"\n",
    "   \n",
    "#     assert len(deck) == 46\n",
    "    assert len(discard) == 2\n",
    "    \n",
    "    verbose = False if 'verbose' not in kwargs else kwargs['verbose']\n",
    "    \n",
    "    total = 0.0 \n",
    "    count = 0\n",
    "        \n",
    "    for i, combo in enumerate(combinations(deck, 3), 1):\n",
    "        c1, c2, cut = combo\n",
    "        crib = Hand([c1, c2])\n",
    "        crib.extend(discard)\n",
    "        \n",
    "        scores, counts = score_hand(crib, cut, is_crib=True)    \n",
    "        value = sum(scores.values())\n",
    "        total += value\n",
    "        count += 1\n",
    "        \n",
    "        if verbose:\n",
    "            print('{:>2} Crib = {} Cut = {} Points = {}'.format(i, crib.sorted(), cut, value))\n",
    "        \n",
    "    average = total/count\n",
    "        \n",
    "    return average"
   ]
  },
  {
   "cell_type": "code",
   "execution_count": null,
   "metadata": {
    "ExecuteTime": {
     "end_time": "2018-07-01T15:09:51.205603Z",
     "start_time": "2018-07-01T15:09:45.699882Z"
    }
   },
   "outputs": [],
   "source": [
    "hand = Hand([Card('4', 'C'),  Card('Q', 'C'), Card('A','C'), Card('A', 'D')])\n",
    "discard = Hand([Card('5', 'D'), Card('Q', 'H')])\n",
    "\n",
    "deck = make_deck()\n",
    "\n",
    "for c in hand:\n",
    "    deck.remove(c)\n",
    "\n",
    "for c in discard:\n",
    "    deck.remove(c)\n",
    "    \n",
    "print('Candidate Hand = {} '.format(hand.sorted()))\n",
    "print('Discard: ', discard.sorted())\n",
    "print('-------')\n",
    "\n",
    "# find the average hand value\n",
    "average = average_crib_value(deck, discard, verbose=False)\n",
    "\n",
    "print()\n",
    "print('Average crib value = {:.4f}'.format(average))        \n",
    "print('-------')\n",
    "print()"
   ]
  },
  {
   "cell_type": "markdown",
   "metadata": {
    "ExecuteTime": {
     "end_time": "2018-02-18T21:03:09.559122Z",
     "start_time": "2018-02-18T21:03:09.460454Z"
    }
   },
   "source": [
    "## Construct Crib Discard Table\n",
    "\n",
    "On my computer it takes about 6 seconds to compute the average value of the discard to the crib. We'll create a dictionary of all the possible pairings of cards for the discard and add them to a lookup dictionary. Once the dictionary has been calculated we'll store it as .json so we don't need to do it every time.\n",
    "\n",
    "I don't think counting flushes will make much of a difference to this process. To save computation time, I'll reduce all duplicate ranks from the deck\n"
   ]
  },
  {
   "cell_type": "code",
   "execution_count": null,
   "metadata": {
    "ExecuteTime": {
     "end_time": "2018-07-01T15:09:51.218846Z",
     "start_time": "2018-07-01T15:09:51.211705Z"
    }
   },
   "outputs": [],
   "source": [
    "# testing methods to reduce the number of cards that we need to consider in the deck\n",
    "deck = make_deck()\n",
    "\n",
    "# extract only a single suite\n",
    "deck = sorted(deck)[0::2]\n",
    "print(deck)\n",
    "print(len(deck))"
   ]
  },
  {
   "cell_type": "code",
   "execution_count": null,
   "metadata": {
    "ExecuteTime": {
     "end_time": "2018-07-01T15:09:51.348600Z",
     "start_time": "2018-07-01T15:09:51.223220Z"
    },
    "scrolled": true
   },
   "outputs": [],
   "source": [
    "deck = make_deck()\n",
    "candidates = sorted(deck)[0::2]\n",
    "\n",
    "average_crib_values = {}\n",
    "\n",
    "# attempt to load the pre-calculated averages\n",
    "try:\n",
    "    \n",
    "    with open('crib_discard.json', 'r') as fp:\n",
    "        average_crib_values = json.load(fp)\n",
    "    \n",
    "except FileNotFoundError:\n",
    "    # there is no pre-calculated dictionary\n",
    "    pass\n",
    "    \n",
    "for i, combo in enumerate(combinations(candidates, 2), 1):\n",
    "        discard = Hand(combo)\n",
    "        key = str([c.rank for c in discard])\n",
    "        \n",
    "        if key not in average_crib_values:        \n",
    "            reduced_deck = list(set(deck) - set(discard))\n",
    "            average = average_crib_value(reduced_deck, discard, verbose=False)\n",
    "            average_crib_values[key] = average\n",
    "            print('{:<2} Discard = {} Average = {:.4f}'.format(i, key, average_crib_values[key]))            "
   ]
  },
  {
   "cell_type": "code",
   "execution_count": null,
   "metadata": {
    "ExecuteTime": {
     "end_time": "2018-07-01T15:09:51.547228Z",
     "start_time": "2018-07-01T15:09:51.353055Z"
    }
   },
   "outputs": [],
   "source": [
    "# dump the averages into a json file so we don't have to recalculate it every time\n",
    "with open('crib_discard.json', 'w') as fp:\n",
    "    json.dump(average_crib_values, fp, indent=4)"
   ]
  },
  {
   "cell_type": "code",
   "execution_count": null,
   "metadata": {
    "ExecuteTime": {
     "end_time": "2018-07-01T15:09:51.705598Z",
     "start_time": "2018-07-01T15:09:51.551325Z"
    }
   },
   "outputs": [],
   "source": [
    "print('Overall average crib points = {:.4f}'.format(sum(average_crib_values.values())/len(average_crib_values)))"
   ]
  },
  {
   "cell_type": "markdown",
   "metadata": {},
   "source": [
    "The values look good and are close to a few of the tables that I have laying around. Let us bring them all together in the next section."
   ]
  },
  {
   "cell_type": "code",
   "execution_count": null,
   "metadata": {
    "ExecuteTime": {
     "end_time": "2018-07-01T15:09:51.836802Z",
     "start_time": "2018-07-01T15:09:51.710226Z"
    }
   },
   "outputs": [],
   "source": [
    "# testing a way to make the dictionary key out of a list\n",
    "m = Hand([Card('4H'), Card('6H')])\n",
    "print(m)\n",
    "print(m.cool_display())\n",
    "\n",
    "key = str(m)\n",
    "print(key)\n",
    "print(type(key))\n"
   ]
  },
  {
   "cell_type": "markdown",
   "metadata": {},
   "source": [
    "# Expected Average\n",
    "\n",
    "For the dealer the expected average is the Average Hand Value + the Average Discard Value\n",
    "\n",
    "For the pone the expected average is the Average Hand Value - the Average Discard Value\n"
   ]
  },
  {
   "cell_type": "code",
   "execution_count": null,
   "metadata": {
    "ExecuteTime": {
     "end_time": "2018-07-01T15:09:51.963330Z",
     "start_time": "2018-07-01T15:09:51.842810Z"
    }
   },
   "outputs": [],
   "source": [
    "hand = Hand([Card('4', 'C'),  Card('Q', 'C'), Card('A','C'), Card('A', 'D'), Card('5', 'D'), Card('Q', 'H')])\n",
    "deck = make_deck()\n",
    "\n",
    "for c in hand:\n",
    "    deck.remove(c)\n",
    "    "
   ]
  },
  {
   "cell_type": "markdown",
   "metadata": {},
   "source": [
    "## As Dealer\n",
    "\n",
    "As the dealer, we want to maximize the amount of points we have in our hand and in the crib. I think the best approach is to maximize the value of the hand as the crib, on average is only valued at about 4.88 points."
   ]
  },
  {
   "cell_type": "code",
   "execution_count": null,
   "metadata": {
    "ExecuteTime": {
     "end_time": "2018-07-01T15:09:57.704728Z",
     "start_time": "2018-07-01T15:09:51.967733Z"
    }
   },
   "outputs": [],
   "source": [
    "print('Candidate Hand = {} '.format(hand.sorted()))\n",
    "print('')\n",
    "\n",
    "score, best_hand = determine_best_hand(hand,verbose=False)\n",
    "print('---------')\n",
    "print('Best Hand      = {}'.format(best_hand))\n",
    "print('Hand Value     = {}'.format(score))\n",
    "\n",
    "# find the average hand value\n",
    "hand_average = average_hand_value(deck, best_hand)\n",
    "print('Average hand value = {:.4f}'.format(hand_average))  \n",
    "\n",
    "discard = Hand(list(set(hand) - set(best_hand)))\n",
    "print('Discard: ', discard.sorted())\n",
    "print('-------')\n",
    "\n",
    "# find the average crib value. This takes into account flushes and all suits. \n",
    "# No simplification is made, the calculations are correct as far as I can tell.\n",
    "average_crib = average_crib_value(deck, discard, verbose=False)\n",
    "\n",
    "# in the cached dictionary of pre-calculated values suits where basically ignored \n",
    "# so the values will be slightly different then the other method\n",
    "# key = str([c.rank for c in discard])\n",
    "key = str(sorted([c.rank for c in discard]))\n",
    "average_crib_precalc = average_crib_values[key]\n",
    "\n",
    "print()\n",
    "print('Average crib value                  = {:.4f}'.format(average_crib))        \n",
    "print('Average crib value (pre-calculated) = {:.4f}'.format(average_crib_precalc))        \n",
    "print('-------')\n",
    "print()\n",
    "\n",
    "print('Expected Average - Dealer = {}'.format(hand_average + average_crib))\n",
    "print('Expected Average - Dealer = {}'.format(hand_average + average_crib_precalc))"
   ]
  },
  {
   "cell_type": "markdown",
   "metadata": {},
   "source": [
    "## As Pone\n",
    "\n",
    "The strategy for the pone is different. They want to maximize the average value of their hand while at the same time minimize the average value of the crib. This will take a little different strategy.\n"
   ]
  },
  {
   "cell_type": "code",
   "execution_count": null,
   "metadata": {
    "ExecuteTime": {
     "end_time": "2018-07-01T15:10:03.265166Z",
     "start_time": "2018-07-01T15:09:57.707166Z"
    }
   },
   "outputs": [],
   "source": [
    "print('Candidate Hand = {} '.format(hand.sorted()))\n",
    "print('')\n",
    "\n",
    "score, best_hand = determine_best_hand(hand,verbose=False)\n",
    "print('---------')\n",
    "print('Best Hand      = {}'.format(best_hand))\n",
    "print('Hand Value     = {}'.format(score))\n",
    "\n",
    "# find the average hand value\n",
    "hand_average = average_hand_value(deck, best_hand)\n",
    "print('Average hand value = {:.4f}'.format(hand_average))  \n",
    "\n",
    "discard = Hand(list(set(hand) - set(best_hand)))\n",
    "print('Discard: ', discard.sorted())\n",
    "print('-------')\n",
    "\n",
    "# find the average crib value. This takes into account flushes and all suits. \n",
    "# No simplification is made, the calculations are correct as far as I can tell.\n",
    "average_crib = average_crib_value(deck, discard, verbose=False)\n",
    "\n",
    "# in the cached dictionary of pre-calculated values suits where basically ignored \n",
    "# so the values will be slightly different then the other method\n",
    "# key = str([c.rank for c in discard])\n",
    "key = str(sorted([c.rank for c in discard]))\n",
    "average_crib_precalc = average_crib_values[key]\n",
    "\n",
    "print()\n",
    "print('Average crib value                  = {:.4f}'.format(average_crib))        \n",
    "print('Average crib value (pre-calculated) = {:.4f}'.format(average_crib_precalc))        \n",
    "print('-------')\n",
    "print()\n",
    "\n",
    "print('Expected Average - Pone = {}'.format(hand_average - average_crib))\n",
    "print('Expected Average - Pone = {}'.format(hand_average - average_crib_precalc))"
   ]
  },
  {
   "cell_type": "markdown",
   "metadata": {},
   "source": [
    "Maximizing the value of the pone's hand doesn't yield an optimal strategy for the pone overall. In the above case it looks as though the pone can only expect about 1.5 points on average even though the hand value is 8.4! We need a different strategy to minimize the loss in points.\n",
    "\n",
    "----"
   ]
  },
  {
   "cell_type": "code",
   "execution_count": null,
   "metadata": {
    "ExecuteTime": {
     "end_time": "2018-07-01T15:10:03.274044Z",
     "start_time": "2018-07-01T15:10:03.267556Z"
    }
   },
   "outputs": [],
   "source": [
    "def four_card_hand_scores(hand, **kwargs):\n",
    "    \"\"\"\n",
    "    Takes a hand of more than 4 cards and returns a list containing \n",
    "    every 4 card hand combination along with the point value, point value dictionary and\n",
    "    a counts dictionary outlining the number of matches for the point value dictionary.\n",
    "            \n",
    "    \"\"\"\n",
    "    hands = []\n",
    "    \n",
    "    for combo in hand.every_combination(count=4):\n",
    "        new_hand = Hand(combo).sorted()        \n",
    "        \n",
    "        # we are only dealing with 4 cards, ignoring a cut card\n",
    "        scores, counts = score_hand(new_hand, None) \n",
    "        score = sum(scores.values())\n",
    "        \n",
    "        hands.append((new_hand, score, scores, counts))\n",
    "    \n",
    "    return hands"
   ]
  },
  {
   "cell_type": "code",
   "execution_count": null,
   "metadata": {
    "ExecuteTime": {
     "end_time": "2018-07-01T15:10:03.476145Z",
     "start_time": "2018-07-01T15:10:03.277569Z"
    }
   },
   "outputs": [],
   "source": [
    "def average_hand_values(deck, hands, **kwargs):\n",
    "    \"\"\"\n",
    "    Calculates the average value for the hands.\n",
    "    \n",
    "    Parameters\n",
    "    ----------\n",
    "    deck - the cards left unturned as far as the person (pone or dealer) \n",
    "           that are used to calculate the average hand value. \n",
    "    \n",
    "    hands - tuple(Hand, number, dictionary, dictionary) - the list of hands to evaluate \n",
    "            the average values for.\n",
    "            \n",
    "    Returns\n",
    "    -------\n",
    "    a list of tuples similar to the input list of tuples that contain the hand,\n",
    "    the value of the hand and the average value.\n",
    "    \n",
    "    \"\"\"\n",
    "    \n",
    "    assert len(deck) == 46\n",
    "\n",
    "    average_hands = []\n",
    "    for hand_tuple in hands:\n",
    "        hand, hand_value, *_ = hand_tuple\n",
    "        average_value = average_hand_value(deck, hand)\n",
    "    \n",
    "        average_hands.append((hand, hand_value, average_value))\n",
    "    \n",
    "    return average_hands"
   ]
  },
  {
   "cell_type": "code",
   "execution_count": null,
   "metadata": {
    "ExecuteTime": {
     "end_time": "2018-07-01T15:10:03.657883Z",
     "start_time": "2018-07-01T15:10:03.480630Z"
    }
   },
   "outputs": [],
   "source": [
    "def average_discard_values(hand, average_hands, **kwargs):\n",
    "    \n",
    "    average_discards = []\n",
    "    for i, a in enumerate(average_hands):\n",
    "        average_hand, value, average = a\n",
    "        discard = list(set(hand) - set(average_hand))\n",
    "    #     average_crib = average_crib_value(deck, discard, verbose=False)\n",
    "\n",
    "        try:\n",
    "\n",
    "            key = str(sorted([c.rank for c in discard]))\n",
    "            average_crib_precalc = average_crib_values[key]\n",
    "\n",
    "        except KeyError:        \n",
    "            key = str(sorted([c.rank for c in discard], reverse=True))\n",
    "            average_crib_precalc = average_crib_values[key]\n",
    "\n",
    "        average_discards.append((average_hand, \n",
    "                                 value, \n",
    "                                 average, \n",
    "                                 discard,\n",
    "                                 average_crib_precalc))\n",
    "        \n",
    "    return average_discards"
   ]
  },
  {
   "cell_type": "code",
   "execution_count": null,
   "metadata": {
    "ExecuteTime": {
     "end_time": "2018-07-01T15:10:04.075443Z",
     "start_time": "2018-07-01T15:10:03.662617Z"
    }
   },
   "outputs": [],
   "source": [
    "hands = sorted(four_card_hand_scores(hand), key=lambda x:x[1], reverse=True)\n",
    "average_hands = sorted(average_hand_values(deck, hands), key=lambda x:x[2], reverse=True)\n",
    "average_discards = sorted(average_discard_values(hand, average_hands), key=lambda x:x[4])\n",
    "   \n",
    "row = '{:<3} {} = {} -> Average = {:.4f} - Discard = {} -> Average = {:.4f} -> EA = {:.4f}'\n",
    "for i, ad in enumerate(average_discards):    \n",
    "    print(row.format(i,*ad, ad[2] - ad[4]))"
   ]
  },
  {
   "cell_type": "markdown",
   "metadata": {
    "ExecuteTime": {
     "end_time": "2018-02-19T17:55:36.831345Z",
     "start_time": "2018-02-19T17:55:36.818290Z"
    }
   },
   "source": [
    "By minimizing the average points discarded to the crib, we maximize our expected average points for the hand."
   ]
  }
 ],
 "metadata": {
  "kernelspec": {
   "display_name": "Python 3",
   "language": "python",
   "name": "python3"
  },
  "language_info": {
   "codemirror_mode": {
    "name": "ipython",
    "version": 3
   },
   "file_extension": ".py",
   "mimetype": "text/x-python",
   "name": "python",
   "nbconvert_exporter": "python",
   "pygments_lexer": "ipython3",
   "version": "3.9.5"
  },
  "widgets": {
   "state": {},
   "version": "1.0.0"
  }
 },
 "nbformat": 4,
 "nbformat_minor": 1
}
