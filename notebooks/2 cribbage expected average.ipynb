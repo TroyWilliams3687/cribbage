{
 "cells": [
  {
   "cell_type": "markdown",
   "metadata": {},
   "source": [
    "# Cribbage Expected Average\n",
    "\n",
    "This notebook will be about analyzing the expected average points a hand can produce."
   ]
  },
  {
   "cell_type": "markdown",
   "metadata": {},
   "source": [
    "## References\n",
    "\n",
    "- http://www.cribbageforum.com/AnalyzeDiscardsPart1.htm\n",
    "- http://www.cribbageforum.com/YourCrib.htm"
   ]
  },
  {
   "cell_type": "code",
   "execution_count": 1,
   "metadata": {
    "ExecuteTime": {
     "end_time": "2018-07-01T15:09:43.495851Z",
     "start_time": "2018-07-01T15:09:43.475030Z"
    }
   },
   "outputs": [
    {
     "data": {
      "application/javascript": [
       "//Disable autoscroll in the output cells\n",
       "IPython.OutputArea.prototype._should_scroll = function(lines) {\n",
       "    return false;\n",
       "}"
      ],
      "text/plain": [
       "<IPython.core.display.Javascript object>"
      ]
     },
     "metadata": {},
     "output_type": "display_data"
    }
   ],
   "source": [
    "%%javascript\n",
    "//Disable autoscroll in the output cells\n",
    "IPython.OutputArea.prototype._should_scroll = function(lines) {\n",
    "    return false;\n",
    "}"
   ]
  },
  {
   "cell_type": "code",
   "execution_count": 2,
   "metadata": {
    "ExecuteTime": {
     "end_time": "2018-07-01T15:09:43.598551Z",
     "start_time": "2018-07-01T15:09:43.499944Z"
    }
   },
   "outputs": [],
   "source": [
    "import random\n",
    "import json\n",
    "from itertools import combinations\n",
    "\n",
    "from cribbage import Card, Hand, score_hand, display_points, make_deck, make_hand"
   ]
  },
  {
   "cell_type": "code",
   "execution_count": 3,
   "metadata": {
    "ExecuteTime": {
     "end_time": "2018-07-01T15:09:43.737181Z",
     "start_time": "2018-07-01T15:09:43.604305Z"
    }
   },
   "outputs": [
    {
     "name": "stdout",
     "output_type": "stream",
     "text": [
      "Hand      = 5♠,5♦,8♠,Q♣\n",
      "Cut       = K♠\n",
      "\n",
      "4 Fifteens for 8\n",
      "1 Pairs for    2\n",
      "0 Runs for     0\n",
      "Flush for      0\n",
      "Nobs for       0\n",
      "-----------------\n",
      "Total          10\n",
      "\n",
      "Fifteens====\n",
      "5♠, Q♣ = 15\n",
      "5♠, K♠ = 15\n",
      "5♦, Q♣ = 15\n",
      "5♦, K♠ = 15\n",
      "\n",
      "Pairs====\n",
      "5♠, 5♦\n",
      "\n",
      "Runs====\n"
     ]
    }
   ],
   "source": [
    "deck = make_deck()\n",
    "m = random.sample(deck, 5)\n",
    "hand = Hand(m[:4])\n",
    "cut = m[-1]\n",
    "\n",
    "scores, counts = score_hand(hand, cut)\n",
    "display_points(hand, cut, scores, counts)"
   ]
  },
  {
   "cell_type": "markdown",
   "metadata": {},
   "source": [
    "# Average Hand Value\n",
    "\n",
    "In this section we'll explore how to calculate the average hand value of any particular 4 card hand based on what the cut card could potentially be. Given the fact that we are dealt 6 cards, what is the best hand, on average, that can be made with 4 cards and the potential cut card.\n",
    "\n",
    "Given that we are dealt the following hand: 2C 3H 4D 5D 5S JS\n",
    "\n",
    "Let's analyze the following 4 card hand: 3C, 4H, 5C, 5D, what can we expect in terms of the cut card? That is, based on what could be turned up as the cut card what kind of points can be expected, on average? \n",
    "\n",
    "We need to remove the cards that we know about from the deck so that we have $52 - 6 = 46$\n",
    "\n",
    "| Starter | Card Frequency | Hand Value | Total |\n",
    "|:-------:|:--------------:|:----------:|:-----:|\n",
    "|A        |4               |   10       |     40|  \n",
    "|2        |3               |   12       |     36|  \n",
    "|3        |3               |   20       |     60|  \n",
    "|4        |3               |   16       |     48|  \n",
    "|5        |2               |   17       |     34|  \n",
    "|6        |4               |   14       |     56|  \n",
    "|7        |4               |   12       |     48|  \n",
    "|8        |4               |   10       |     40|  \n",
    "|9        |4               |   8        |     32|  \n",
    "|10       |4               |   12       |     48|  \n",
    "|J        |3               |   12       |     36|  \n",
    "|Q        |4               |   12       |     48|  \n",
    "|K        |4               |   12       |     48|\n",
    "|         |                |   *Total:* |    574|\n",
    "\n",
    "for the 4 card hand, the average points would be: $\\frac{574}{46} = 12.48$\n",
    "\n",
    "Table columns:\n",
    "- Starter - This column simply lists the potential cut card.\n",
    "- Card Frequency - This is the number of cards in the deck that are left based on the 6 cards you are dealt. For example, if I was dealt 2 aces, that would mean there are only two aces left in the deck. \n",
    "- Hand Value - This is the value of the hand including the cut/starter card\n",
    "- Total - This is the product of the card frequency and hand value. Basically it is a weighting factor.\n",
    "\n",
    "You sum the value in the total column and divide by the number of cards left in the deck, $52 - 6 = 46$. "
   ]
  },
  {
   "cell_type": "code",
   "execution_count": 4,
   "metadata": {
    "ExecuteTime": {
     "end_time": "2018-07-01T15:09:43.886599Z",
     "start_time": "2018-07-01T15:09:43.741272Z"
    }
   },
   "outputs": [
    {
     "name": "stdout",
     "output_type": "stream",
     "text": [
      "Candidate Hand:  [6♣, K♠, 8♠, 5♣]\n",
      "Discard:  [4♠, Q♥]\n",
      "\n",
      " 1 Cards = [5♣, 6♣, 8♠, K♠], Cut = A♥ - Points = 4\n",
      " 2 Cards = [5♣, 6♣, 8♠, K♠], Cut = A♣ - Points = 4\n",
      " 3 Cards = [5♣, 6♣, 8♠, K♠], Cut = A♠ - Points = 4\n",
      " 4 Cards = [5♣, 6♣, 8♠, K♠], Cut = A♦ - Points = 4\n",
      " 5 Cards = [5♣, 6♣, 8♠, K♠], Cut = 2♥ - Points = 4\n",
      " 6 Cards = [5♣, 6♣, 8♠, K♠], Cut = 2♠ - Points = 4\n",
      " 7 Cards = [5♣, 6♣, 8♠, K♠], Cut = 2♣ - Points = 4\n",
      " 8 Cards = [5♣, 6♣, 8♠, K♠], Cut = 2♦ - Points = 4\n",
      " 9 Cards = [5♣, 6♣, 8♠, K♠], Cut = 3♥ - Points = 2\n",
      "10 Cards = [5♣, 6♣, 8♠, K♠], Cut = 3♦ - Points = 2\n",
      "11 Cards = [5♣, 6♣, 8♠, K♠], Cut = 3♣ - Points = 2\n",
      "12 Cards = [5♣, 6♣, 8♠, K♠], Cut = 3♠ - Points = 2\n",
      "13 Cards = [5♣, 6♣, 8♠, K♠], Cut = 4♣ - Points = 7\n",
      "14 Cards = [5♣, 6♣, 8♠, K♠], Cut = 4♥ - Points = 7\n",
      "15 Cards = [5♣, 6♣, 8♠, K♠], Cut = 4♦ - Points = 7\n",
      "16 Cards = [5♣, 6♣, 8♠, K♠], Cut = 5♦ - Points = 6\n",
      "17 Cards = [5♣, 6♣, 8♠, K♠], Cut = 5♥ - Points = 6\n",
      "18 Cards = [5♣, 6♣, 8♠, K♠], Cut = 5♠ - Points = 6\n",
      "19 Cards = [5♣, 6♣, 8♠, K♠], Cut = 6♦ - Points = 4\n",
      "20 Cards = [5♣, 6♣, 8♠, K♠], Cut = 6♥ - Points = 4\n",
      "21 Cards = [5♣, 6♣, 8♠, K♠], Cut = 6♠ - Points = 4\n",
      "22 Cards = [5♣, 6♣, 8♠, K♠], Cut = 7♥ - Points = 8\n",
      "23 Cards = [5♣, 6♣, 8♠, K♠], Cut = 7♠ - Points = 8\n",
      "24 Cards = [5♣, 6♣, 8♠, K♠], Cut = 7♣ - Points = 8\n",
      "25 Cards = [5♣, 6♣, 8♠, K♠], Cut = 7♦ - Points = 8\n",
      "26 Cards = [5♣, 6♣, 8♠, K♠], Cut = 8♣ - Points = 4\n",
      "27 Cards = [5♣, 6♣, 8♠, K♠], Cut = 8♦ - Points = 4\n",
      "28 Cards = [5♣, 6♣, 8♠, K♠], Cut = 8♥ - Points = 4\n",
      "29 Cards = [5♣, 6♣, 8♠, K♠], Cut = 9♥ - Points = 4\n",
      "30 Cards = [5♣, 6♣, 8♠, K♠], Cut = 9♦ - Points = 4\n",
      "31 Cards = [5♣, 6♣, 8♠, K♠], Cut = 9♣ - Points = 4\n",
      "32 Cards = [5♣, 6♣, 8♠, K♠], Cut = 9♠ - Points = 4\n",
      "33 Cards = [5♣, 6♣, 8♠, K♠], Cut = T♦ - Points = 4\n",
      "34 Cards = [5♣, 6♣, 8♠, K♠], Cut = T♥ - Points = 4\n",
      "35 Cards = [5♣, 6♣, 8♠, K♠], Cut = T♠ - Points = 4\n",
      "36 Cards = [5♣, 6♣, 8♠, K♠], Cut = T♣ - Points = 4\n",
      "37 Cards = [5♣, 6♣, 8♠, K♠], Cut = J♥ - Points = 4\n",
      "38 Cards = [5♣, 6♣, 8♠, K♠], Cut = J♠ - Points = 4\n",
      "39 Cards = [5♣, 6♣, 8♠, K♠], Cut = J♦ - Points = 4\n",
      "40 Cards = [5♣, 6♣, 8♠, K♠], Cut = J♣ - Points = 4\n",
      "41 Cards = [5♣, 6♣, 8♠, K♠], Cut = Q♠ - Points = 4\n",
      "42 Cards = [5♣, 6♣, 8♠, K♠], Cut = Q♦ - Points = 4\n",
      "43 Cards = [5♣, 6♣, 8♠, K♠], Cut = Q♣ - Points = 4\n",
      "44 Cards = [5♣, 6♣, 8♠, K♠], Cut = K♣ - Points = 6\n",
      "45 Cards = [5♣, 6♣, 8♠, K♠], Cut = K♦ - Points = 6\n",
      "46 Cards = [5♣, 6♣, 8♠, K♠], Cut = K♥ - Points = 6\n",
      "\n",
      "Average hand value = 4.630434782608695\n"
     ]
    }
   ],
   "source": [
    "deck = make_deck()\n",
    "\n",
    "# shuffle the deck\n",
    "random.shuffle(deck)\n",
    "\n",
    "# extract the first 6 cards (removing them from the deck)\n",
    "hand = make_hand(deck, 6)\n",
    "\n",
    "random.shuffle(hand)\n",
    "candidate = Hand(hand[:4])\n",
    "discard =  hand[-2:]\n",
    "print('Candidate Hand: ',candidate)\n",
    "print('Discard: ', discard)\n",
    "print()\n",
    "\n",
    "total = 0.0\n",
    "for i, cut in enumerate(sorted(deck), 1):\n",
    "    scores, counts = score_hand(candidate, cut)    \n",
    "    value = sum(scores.values())\n",
    "    print('{:>2} Cards = {}, Cut = {} - Points = {}'.format(i, candidate.sorted(), cut, value))\n",
    "    total += value\n",
    "    \n",
    "    \n",
    "print()\n",
    "print('Average hand value = {}'.format(total/len(deck)))"
   ]
  },
  {
   "cell_type": "code",
   "execution_count": 5,
   "metadata": {
    "ExecuteTime": {
     "end_time": "2018-07-01T15:09:44.036467Z",
     "start_time": "2018-07-01T15:09:43.892716Z"
    }
   },
   "outputs": [
    {
     "name": "stdout",
     "output_type": "stream",
     "text": [
      "Candidate Hand:  [3♣, 4♦, 5♥, 5♣]\n",
      "Discard:  [2♣, J♣]\n",
      "\n",
      " 1 Cards = [3♣, 4♦, 5♥, 5♣], Cut = A♦ - Points = 10\n",
      " 2 Cards = [3♣, 4♦, 5♥, 5♣], Cut = A♥ - Points = 10\n",
      " 3 Cards = [3♣, 4♦, 5♥, 5♣], Cut = A♣ - Points = 10\n",
      " 4 Cards = [3♣, 4♦, 5♥, 5♣], Cut = A♠ - Points = 10\n",
      " 5 Cards = [3♣, 4♦, 5♥, 5♣], Cut = 2♦ - Points = 12\n",
      " 6 Cards = [3♣, 4♦, 5♥, 5♣], Cut = 2♥ - Points = 12\n",
      " 7 Cards = [3♣, 4♦, 5♥, 5♣], Cut = 2♠ - Points = 12\n",
      " 8 Cards = [3♣, 4♦, 5♥, 5♣], Cut = 3♦ - Points = 20\n",
      " 9 Cards = [3♣, 4♦, 5♥, 5♣], Cut = 3♥ - Points = 20\n",
      "10 Cards = [3♣, 4♦, 5♥, 5♣], Cut = 3♠ - Points = 20\n",
      "11 Cards = [3♣, 4♦, 5♥, 5♣], Cut = 4♥ - Points = 16\n",
      "12 Cards = [3♣, 4♦, 5♥, 5♣], Cut = 4♣ - Points = 16\n",
      "13 Cards = [3♣, 4♦, 5♥, 5♣], Cut = 4♠ - Points = 16\n",
      "14 Cards = [3♣, 4♦, 5♥, 5♣], Cut = 5♦ - Points = 17\n",
      "15 Cards = [3♣, 4♦, 5♥, 5♣], Cut = 5♠ - Points = 17\n",
      "16 Cards = [3♣, 4♦, 5♥, 5♣], Cut = 6♦ - Points = 14\n",
      "17 Cards = [3♣, 4♦, 5♥, 5♣], Cut = 6♥ - Points = 14\n",
      "18 Cards = [3♣, 4♦, 5♥, 5♣], Cut = 6♣ - Points = 14\n",
      "19 Cards = [3♣, 4♦, 5♥, 5♣], Cut = 6♠ - Points = 14\n",
      "20 Cards = [3♣, 4♦, 5♥, 5♣], Cut = 7♦ - Points = 12\n",
      "21 Cards = [3♣, 4♦, 5♥, 5♣], Cut = 7♥ - Points = 12\n",
      "22 Cards = [3♣, 4♦, 5♥, 5♣], Cut = 7♣ - Points = 12\n",
      "23 Cards = [3♣, 4♦, 5♥, 5♣], Cut = 7♠ - Points = 12\n",
      "24 Cards = [3♣, 4♦, 5♥, 5♣], Cut = 8♦ - Points = 10\n",
      "25 Cards = [3♣, 4♦, 5♥, 5♣], Cut = 8♥ - Points = 10\n",
      "26 Cards = [3♣, 4♦, 5♥, 5♣], Cut = 8♣ - Points = 10\n",
      "27 Cards = [3♣, 4♦, 5♥, 5♣], Cut = 8♠ - Points = 10\n",
      "28 Cards = [3♣, 4♦, 5♥, 5♣], Cut = 9♦ - Points = 8\n",
      "29 Cards = [3♣, 4♦, 5♥, 5♣], Cut = 9♥ - Points = 8\n",
      "30 Cards = [3♣, 4♦, 5♥, 5♣], Cut = 9♣ - Points = 8\n",
      "31 Cards = [3♣, 4♦, 5♥, 5♣], Cut = 9♠ - Points = 8\n",
      "32 Cards = [3♣, 4♦, 5♥, 5♣], Cut = T♦ - Points = 12\n",
      "33 Cards = [3♣, 4♦, 5♥, 5♣], Cut = T♥ - Points = 12\n",
      "34 Cards = [3♣, 4♦, 5♥, 5♣], Cut = T♣ - Points = 12\n",
      "35 Cards = [3♣, 4♦, 5♥, 5♣], Cut = T♠ - Points = 12\n",
      "36 Cards = [3♣, 4♦, 5♥, 5♣], Cut = J♦ - Points = 12\n",
      "37 Cards = [3♣, 4♦, 5♥, 5♣], Cut = J♥ - Points = 12\n",
      "38 Cards = [3♣, 4♦, 5♥, 5♣], Cut = J♠ - Points = 12\n",
      "39 Cards = [3♣, 4♦, 5♥, 5♣], Cut = Q♦ - Points = 12\n",
      "40 Cards = [3♣, 4♦, 5♥, 5♣], Cut = Q♥ - Points = 12\n",
      "41 Cards = [3♣, 4♦, 5♥, 5♣], Cut = Q♣ - Points = 12\n",
      "42 Cards = [3♣, 4♦, 5♥, 5♣], Cut = Q♠ - Points = 12\n",
      "43 Cards = [3♣, 4♦, 5♥, 5♣], Cut = K♦ - Points = 12\n",
      "44 Cards = [3♣, 4♦, 5♥, 5♣], Cut = K♥ - Points = 12\n",
      "45 Cards = [3♣, 4♦, 5♥, 5♣], Cut = K♣ - Points = 12\n",
      "46 Cards = [3♣, 4♦, 5♥, 5♣], Cut = K♠ - Points = 12\n",
      "\n",
      "Average hand value = 12.478\n"
     ]
    }
   ],
   "source": [
    "hand = Hand([Card('3', 'C'), Card('4', 'D'), Card('5', 'H'), Card('5', 'C')])\n",
    "discard = Hand([Card('2','C'), Card('J', 'C')])\n",
    "\n",
    "deck = make_deck()\n",
    "\n",
    "for c in hand:\n",
    "    deck.remove(c)\n",
    "    \n",
    "for c in discard:\n",
    "    deck.remove(c)\n",
    "    \n",
    "print('Candidate Hand: ',hand)\n",
    "print('Discard: ', discard)\n",
    "print()\n",
    "\n",
    "total = 0.0\n",
    "for i, cut in enumerate(sorted(deck), 1):\n",
    "    scores, counts = score_hand(hand, cut)    \n",
    "    value = sum(scores.values())\n",
    "    print('{:>2} Cards = {}, Cut = {} - Points = {}'.format(i, hand.sorted(), cut, value))\n",
    "    total += value\n",
    "    \n",
    "    \n",
    "print()\n",
    "print('Average hand value = {:.3f}'.format(total/len(deck)))"
   ]
  },
  {
   "cell_type": "code",
   "execution_count": 6,
   "metadata": {
    "ExecuteTime": {
     "end_time": "2018-07-01T15:09:44.233261Z",
     "start_time": "2018-07-01T15:09:44.047690Z"
    }
   },
   "outputs": [],
   "source": [
    "def average_hand_value(deck, hand, **kwargs):\n",
    "    \"\"\"\n",
    "    The player is dealt 6 cards which are removed from \n",
    "    the deck. This method calculates the average hand value, \n",
    "    given the remaining cards in the deck (46) and a hand of 4 cards.\n",
    "    \n",
    "    Essentially, it uses the remaining cards in the deck, each one in turn, \n",
    "    as the potential starter card. The hand value + the starter card is \n",
    "    calculated. The average value is returned\n",
    "    \n",
    "    Parameters\n",
    "    ----------\n",
    "    deck - iterable - a list of cards that are remaining in the deck. There should be 46.\n",
    "    hand - Hand object - a list of cards that the player wants to evaluate. There should be 4 cards.\n",
    "    \n",
    "    Returns\n",
    "    -------\n",
    "    \n",
    "    The average hand value.\n",
    "    \n",
    "    \"\"\"\n",
    "   \n",
    "    assert len(deck) == 46\n",
    "    assert len(hand) == 4\n",
    "    \n",
    "    verbose = False if 'verbose' not in kwargs else kwargs['verbose']\n",
    "    \n",
    "    total = 0.0\n",
    "    for i, cut in enumerate(sorted(deck), 1):\n",
    "        scores, counts = score_hand(hand, cut)    \n",
    "        value = sum(scores.values())\n",
    "        total += value\n",
    "        \n",
    "        if verbose:\n",
    "            print('{:>2} Cards = {}, Cut = {} - Points = {}'.format(i, hand.sorted(), cut, value))\n",
    "        \n",
    "    return total/len(deck)  "
   ]
  },
  {
   "cell_type": "code",
   "execution_count": 7,
   "metadata": {
    "ExecuteTime": {
     "end_time": "2018-07-01T15:09:44.384558Z",
     "start_time": "2018-07-01T15:09:44.238444Z"
    }
   },
   "outputs": [
    {
     "name": "stdout",
     "output_type": "stream",
     "text": [
      "Candidate Hand:  [3♣, 4♦, 5♥, 5♣]\n",
      "Discard:  [2♣, J♣]\n",
      "\n",
      "Average hand value = 12.478\n"
     ]
    }
   ],
   "source": [
    "hand = Hand([Card('3', 'C'), Card('4', 'D'), Card('5', 'H'), Card('5', 'C')])\n",
    "discard = Hand([Card('2','C'), Card('J', 'C')])\n",
    "\n",
    "deck = make_deck()\n",
    "\n",
    "for c in hand:\n",
    "    deck.remove(c)\n",
    "    \n",
    "for c in discard:\n",
    "    deck.remove(c)\n",
    "    \n",
    "print('Candidate Hand: ',hand)\n",
    "print('Discard: ', discard)\n",
    "print()\n",
    "\n",
    "average = average_hand_value(deck, hand)\n",
    "\n",
    "print('Average hand value = {:.3f}'.format(average))"
   ]
  },
  {
   "cell_type": "code",
   "execution_count": 8,
   "metadata": {
    "ExecuteTime": {
     "end_time": "2018-07-01T15:09:44.565251Z",
     "start_time": "2018-07-01T15:09:44.389544Z"
    }
   },
   "outputs": [
    {
     "name": "stdout",
     "output_type": "stream",
     "text": [
      "Candidate Hand:  [8♣, A♠, 8♥, 3♦, 4♣, Q♠]\n",
      "Discard:  [4♣, Q♠]\n",
      "\n",
      "Average hand value = 3.913\n"
     ]
    }
   ],
   "source": [
    "deck = make_deck()\n",
    "\n",
    "# shuffle the deck\n",
    "random.shuffle(deck)\n",
    "\n",
    "# extract the first 6 cards (removing them from the deck)\n",
    "hand = make_hand(deck, 6)\n",
    "\n",
    "random.shuffle(hand)\n",
    "candidate = Hand(hand[:4])\n",
    "discard =  hand[-2:]\n",
    "print('Candidate Hand: ',hand)\n",
    "print('Discard: ', discard)\n",
    "print()\n",
    "\n",
    "average = average_hand_value(deck, candidate)\n",
    "\n",
    "print('Average hand value = {:.3f}'.format(average))"
   ]
  },
  {
   "cell_type": "markdown",
   "metadata": {},
   "source": [
    "## Find the Best Discard \n",
    "\n",
    "Given 6 cards and the starter card is not turned up, find the best set of 4 cards to keep. That is the 4 cards with the highest point total and the highest hand average\n"
   ]
  },
  {
   "cell_type": "code",
   "execution_count": 9,
   "metadata": {
    "ExecuteTime": {
     "end_time": "2018-07-01T15:09:44.719553Z",
     "start_time": "2018-07-01T15:09:44.571194Z"
    }
   },
   "outputs": [],
   "source": [
    "def determine_best_hand(hand, **kwargs):\n",
    "    \"\"\"\n",
    "    Takes a hand of 6 cards and determines the best 4 hand combination based on point value.\n",
    "    \"\"\"    \n",
    "    assert len(hand) == 6\n",
    "    \n",
    "    verbose = False if 'verbose' not in kwargs else kwargs['verbose']\n",
    "    \n",
    "    max_score = 0.0\n",
    "    max_average = 0.0\n",
    "    best_hand = None\n",
    "    \n",
    "    for combo in hand.every_combination(count=4):\n",
    "        new_hand = Hand(combo).sorted()        \n",
    "        scores, counts = score_hand(new_hand, None) # we are ignoring the cut card when scoring|\n",
    "        score = sum(scores.values())\n",
    "                \n",
    "        deck = make_deck()\n",
    "\n",
    "        for c in hand:\n",
    "            deck.remove(c)\n",
    "\n",
    "        average = average_hand_value(deck, new_hand)\n",
    "        \n",
    "        if verbose:\n",
    "            print('Hand = {}, value = {}, average = {:.4f}'.format(new_hand, score, average))\n",
    "                    \n",
    "        if score >= max_score and average > max_average:\n",
    "            max_score = score\n",
    "            max_average = average\n",
    "            best_hand = new_hand\n",
    "    \n",
    "    return max_score, best_hand"
   ]
  },
  {
   "cell_type": "code",
   "execution_count": 10,
   "metadata": {
    "ExecuteTime": {
     "end_time": "2018-07-01T15:09:45.199824Z",
     "start_time": "2018-07-01T15:09:44.724290Z"
    }
   },
   "outputs": [
    {
     "name": "stdout",
     "output_type": "stream",
     "text": [
      "Candidate Hand = [K♥, 7♦, 9♦, A♦, 8♣, J♦] \n",
      "-------\n",
      "Hand = [A♦, 7♦, 9♦, K♥], value = 0, average = 1.6739\n",
      "Hand = [7♦, 8♣, 9♦, K♥], value = 5, average = 6.8913\n",
      "Hand = [7♦, 9♦, J♦, K♥], value = 0, average = 2.0870\n",
      "Hand = [A♦, 7♦, 8♣, K♥], value = 2, average = 3.8913\n",
      "Hand = [A♦, 7♦, J♦, K♥], value = 0, average = 1.9348\n",
      "Hand = [7♦, 8♣, J♦, K♥], value = 2, average = 4.0435\n",
      "Hand = [A♦, 8♣, 9♦, K♥], value = 0, average = 1.9783\n",
      "Hand = [A♦, 9♦, J♦, K♥], value = 0, average = 2.2826\n",
      "Hand = [8♣, 9♦, J♦, K♥], value = 0, average = 2.1739\n",
      "Hand = [A♦, 8♣, J♦, K♥], value = 0, average = 1.9783\n",
      "Hand = [A♦, 7♦, 8♣, 9♦], value = 5, average = 7.1957\n",
      "Hand = [A♦, 7♦, 9♦, J♦], value = 4, average = 6.3261\n",
      "Hand = [7♦, 8♣, 9♦, J♦], value = 5, average = 7.1739\n",
      "Hand = [A♦, 7♦, 8♣, J♦], value = 2, average = 4.0870\n",
      "Hand = [A♦, 8♣, 9♦, J♦], value = 0, average = 2.2609\n",
      "---------\n",
      "Best Hand      = [A♦, 7♦, 8♣, 9♦]\n",
      "Hand Value     = 5\n",
      "\n",
      "Average hand value = 7.1957\n"
     ]
    }
   ],
   "source": [
    "deck = make_deck()\n",
    "\n",
    "# shuffle the deck\n",
    "random.shuffle(deck)\n",
    "\n",
    "# extract the first 6 cards (removing them from the deck)\n",
    "hand = make_hand(deck, 6)\n",
    "print('Candidate Hand = {} '.format(hand))\n",
    "print('-------')\n",
    "\n",
    "score, best_hand = determine_best_hand(hand,verbose=True)\n",
    "print('---------')\n",
    "print('Best Hand      = {}'.format(best_hand))\n",
    "\n",
    "scores, counts = score_hand(best_hand, None)\n",
    "print('Hand Value     = {}'.format(sum(scores.values())))\n",
    "\n",
    "# find the average hand value\n",
    "average = average_hand_value(deck, best_hand)\n",
    "\n",
    "print()\n",
    "print('Average hand value = {:.4f}'.format(average))   "
   ]
  },
  {
   "cell_type": "code",
   "execution_count": 11,
   "metadata": {
    "ExecuteTime": {
     "end_time": "2018-07-01T15:09:45.236431Z",
     "start_time": "2018-07-01T15:09:45.205868Z"
    }
   },
   "outputs": [
    {
     "name": "stdout",
     "output_type": "stream",
     "text": [
      "Candidate Hand:  [4♣, 5♦, Q♥, Q♣]\n",
      "Discard:  [A♣, A♦]\n",
      "\n",
      "Hand Value     = 6\n",
      "Average hand value = 8.174\n"
     ]
    }
   ],
   "source": [
    "hand = Hand([Card('4', 'C'), Card('5', 'D'), Card('Q', 'H'), Card('Q', 'C')])\n",
    "discard = Hand([Card('A','C'), Card('A', 'D')])\n",
    "\n",
    "deck = make_deck()\n",
    "\n",
    "for c in hand:\n",
    "    deck.remove(c)\n",
    "    \n",
    "for c in discard:\n",
    "    deck.remove(c)\n",
    "    \n",
    "print('Candidate Hand: ',hand)\n",
    "print('Discard: ', discard)\n",
    "print()\n",
    "\n",
    "scores, counts = score_hand(hand, None)\n",
    "print('Hand Value     = {}'.format(sum(scores.values())))\n",
    "\n",
    "# find the average hand value\n",
    "average = average_hand_value(deck, hand)\n",
    "\n",
    "print('Average hand value = {:.3f}'.format(average))"
   ]
  },
  {
   "cell_type": "code",
   "execution_count": 12,
   "metadata": {
    "ExecuteTime": {
     "end_time": "2018-07-01T15:09:45.669786Z",
     "start_time": "2018-07-01T15:09:45.244585Z"
    }
   },
   "outputs": [
    {
     "name": "stdout",
     "output_type": "stream",
     "text": [
      "Candidate Hand = [4♣, 5♦, Q♥, Q♣, A♣, A♦] \n",
      "-------\n",
      "Hand = [4♣, 5♦, Q♥, Q♣], value = 6, average = 8.1739\n",
      "Hand = [A♣, 4♣, 5♦, Q♥], value = 4, average = 7.0000\n",
      "Hand = [A♦, 4♣, 5♦, Q♥], value = 4, average = 7.0000\n",
      "Hand = [A♣, 4♣, 5♦, Q♣], value = 4, average = 7.0000\n",
      "Hand = [A♦, 4♣, 5♦, Q♣], value = 4, average = 7.0000\n",
      "Hand = [A♣, A♦, 4♣, 5♦], value = 2, average = 6.0435\n",
      "Hand = [A♣, 4♣, Q♥, Q♣], value = 6, average = 7.6957\n",
      "Hand = [A♦, 4♣, Q♥, Q♣], value = 6, average = 7.6957\n",
      "Hand = [A♣, A♦, 4♣, Q♥], value = 6, average = 8.4348\n",
      "Hand = [A♣, A♦, 4♣, Q♣], value = 6, average = 8.4348\n",
      "Hand = [A♣, 5♦, Q♥, Q♣], value = 6, average = 7.6957\n",
      "Hand = [A♦, 5♦, Q♥, Q♣], value = 6, average = 7.6957\n",
      "Hand = [A♣, A♦, 5♦, Q♥], value = 4, average = 6.0870\n",
      "Hand = [A♣, A♦, 5♦, Q♣], value = 4, average = 6.0870\n",
      "Hand = [A♣, A♦, Q♥, Q♣], value = 4, average = 5.4783\n",
      "---------\n",
      "Best Hand      = [A♣, A♦, 4♣, Q♥]\n",
      "Hand Value     = 6\n",
      "\n",
      "Average hand value = 8.4348\n"
     ]
    }
   ],
   "source": [
    "hand = Hand([Card('4', 'C'), Card('5', 'D'), Card('Q', 'H'), Card('Q', 'C'), Card('A','C'), Card('A', 'D')])\n",
    "\n",
    "deck = make_deck()\n",
    "\n",
    "for c in hand:\n",
    "    deck.remove(c)\n",
    "    \n",
    "print('Candidate Hand = {} '.format(hand))\n",
    "print('-------')\n",
    "\n",
    "score, best_hand = determine_best_hand(hand,verbose=True)\n",
    "print('---------')\n",
    "print('Best Hand      = {}'.format(best_hand))\n",
    "\n",
    "scores, counts = score_hand(best_hand, None)\n",
    "print('Hand Value     = {}'.format(sum(scores.values())))\n",
    "\n",
    "# find the average hand value\n",
    "average = average_hand_value(deck, best_hand)\n",
    "\n",
    "print()\n",
    "print('Average hand value = {:.4f}'.format(average))        "
   ]
  },
  {
   "cell_type": "markdown",
   "metadata": {},
   "source": [
    "These numbers agree with what I have in the books and tables on the internet. I think these values will be more accurate because it does take into account flushes, nobs and other things that I think the other approaches don't accommodate for. "
   ]
  },
  {
   "cell_type": "markdown",
   "metadata": {},
   "source": [
    "# Analyze Average Discard Value\n",
    "\n",
    "- https://cliambrown.com/cribbage/methodology.php\n",
    "- http://www.cribbageforum.com/YourCrib.htm\n",
    "\n",
    "There are only discard tables available. I think I need to follow the same approach as the previous section.\n",
    "\n",
    "1. Take the cards to discard and pair them with two other cards from the remaining cards\n",
    "1. Take a starter from the deck\n",
    "1. score these crib along with the starter and determine its average value\n",
    "1. Search for the maximum value and the minimum value"
   ]
  },
  {
   "cell_type": "code",
   "execution_count": 13,
   "metadata": {
    "ExecuteTime": {
     "end_time": "2018-07-01T15:09:45.695288Z",
     "start_time": "2018-07-01T15:09:45.677672Z"
    }
   },
   "outputs": [],
   "source": [
    "def average_crib_value(deck, discard, **kwargs):\n",
    "    \"\"\"\n",
    "    The player is dealt 6 cards which are removed from \n",
    "    the deck. They have picked 2 cards to discard to the crib.    \n",
    "    This method calculates the average crib value, \n",
    "    given the remaining cards in the deck (46) and 2 discard cards\n",
    "    intended for the crib.\n",
    "    \n",
    "    Essentially, it uses the remaining cards in the deck, each pair in turn, \n",
    "    as the potential crib mates and an extra card for the starter. \n",
    "    \n",
    "    Parameters\n",
    "    ----------\n",
    "    deck - iterable - a list of cards that are remaining in the deck. There should be 46.\n",
    "    discard - Hand object - a list of cards that will be part of the crib. There should be 2 cards.\n",
    "    \n",
    "    Returns\n",
    "    -------\n",
    "    \n",
    "    The average crib value.\n",
    "    \n",
    "    \"\"\"\n",
    "   \n",
    "#     assert len(deck) == 46\n",
    "    assert len(discard) == 2\n",
    "    \n",
    "    verbose = False if 'verbose' not in kwargs else kwargs['verbose']\n",
    "    \n",
    "    total = 0.0 \n",
    "    count = 0\n",
    "        \n",
    "    for i, combo in enumerate(combinations(deck, 3), 1):\n",
    "        c1, c2, cut = combo\n",
    "        crib = Hand([c1, c2])\n",
    "        crib.extend(discard)\n",
    "        \n",
    "        scores, counts = score_hand(crib, cut, is_crib=True)    \n",
    "        value = sum(scores.values())\n",
    "        total += value\n",
    "        count += 1\n",
    "        \n",
    "        if verbose:\n",
    "            print('{:>2} Crib = {} Cut = {} Points = {}'.format(i, crib.sorted(), cut, value))\n",
    "        \n",
    "    average = total/count\n",
    "        \n",
    "    return average"
   ]
  },
  {
   "cell_type": "code",
   "execution_count": 14,
   "metadata": {
    "ExecuteTime": {
     "end_time": "2018-07-01T15:09:51.205603Z",
     "start_time": "2018-07-01T15:09:45.699882Z"
    }
   },
   "outputs": [
    {
     "name": "stdout",
     "output_type": "stream",
     "text": [
      "Candidate Hand = [A♣, A♦, 4♣, Q♣] \n",
      "Discard:  [5♦, Q♥]\n",
      "-------\n",
      "\n",
      "Average crib value = 6.9283\n",
      "-------\n",
      "\n"
     ]
    }
   ],
   "source": [
    "hand = Hand([Card('4', 'C'),  Card('Q', 'C'), Card('A','C'), Card('A', 'D')])\n",
    "discard = Hand([Card('5', 'D'), Card('Q', 'H')])\n",
    "\n",
    "deck = make_deck()\n",
    "\n",
    "for c in hand:\n",
    "    deck.remove(c)\n",
    "\n",
    "for c in discard:\n",
    "    deck.remove(c)\n",
    "    \n",
    "print('Candidate Hand = {} '.format(hand.sorted()))\n",
    "print('Discard: ', discard.sorted())\n",
    "print('-------')\n",
    "\n",
    "# find the average hand value\n",
    "average = average_crib_value(deck, discard, verbose=False)\n",
    "\n",
    "print()\n",
    "print('Average crib value = {:.4f}'.format(average))        \n",
    "print('-------')\n",
    "print()"
   ]
  },
  {
   "cell_type": "markdown",
   "metadata": {
    "ExecuteTime": {
     "end_time": "2018-02-18T21:03:09.559122Z",
     "start_time": "2018-02-18T21:03:09.460454Z"
    }
   },
   "source": [
    "## Construct Crib Discard Table\n",
    "\n",
    "On my computer it takes about 6 seconds to compute the average value of the discard to the crib. We'll create a dictionary of all the possible pairings of cards for the discard and add them to a lookup dictionary. Once the dictionary has been calculated we'll store it as .json so we don't need to do it every time.\n",
    "\n",
    "I don't think counting flushes will make much of a difference to this process. To save computation time, I'll reduce all duplicate ranks from the deck\n"
   ]
  },
  {
   "cell_type": "code",
   "execution_count": 15,
   "metadata": {
    "ExecuteTime": {
     "end_time": "2018-07-01T15:09:51.218846Z",
     "start_time": "2018-07-01T15:09:51.211705Z"
    }
   },
   "outputs": [
    {
     "name": "stdout",
     "output_type": "stream",
     "text": [
      "[A♦, A♣, 2♦, 2♣, 3♦, 3♣, 4♦, 4♣, 5♦, 5♣, 6♦, 6♣, 7♦, 7♣, 8♦, 8♣, 9♦, 9♣, T♦, T♣, J♦, J♣, Q♦, Q♣, K♦, K♣]\n",
      "26\n"
     ]
    }
   ],
   "source": [
    "# testing methods to reduce the number of cards that we need to consider in the deck\n",
    "deck = make_deck()\n",
    "\n",
    "# extract only a single suite\n",
    "deck = sorted(deck)[0::2]\n",
    "print(deck)\n",
    "print(len(deck))"
   ]
  },
  {
   "cell_type": "code",
   "execution_count": 16,
   "metadata": {
    "ExecuteTime": {
     "end_time": "2018-07-01T15:09:51.348600Z",
     "start_time": "2018-07-01T15:09:51.223220Z"
    },
    "scrolled": true
   },
   "outputs": [],
   "source": [
    "deck = make_deck()\n",
    "candidates = sorted(deck)[0::2]\n",
    "\n",
    "average_crib_values = {}\n",
    "\n",
    "# attempt to load the pre-calculated averages\n",
    "try:\n",
    "    \n",
    "    with open('crib_discard.json', 'r') as fp:\n",
    "        average_crib_values = json.load(fp)\n",
    "    \n",
    "except FileNotFoundError:\n",
    "    # there is no pre-calculated dictionary\n",
    "    pass\n",
    "    \n",
    "for i, combo in enumerate(combinations(candidates, 2), 1):\n",
    "        discard = Hand(combo)\n",
    "        key = str([c.rank for c in discard])\n",
    "        \n",
    "        if key not in average_crib_values:        \n",
    "            reduced_deck = list(set(deck) - set(discard))\n",
    "            average = average_crib_value(reduced_deck, discard, verbose=False)\n",
    "            average_crib_values[key] = average\n",
    "            print('{:<2} Discard = {} Average = {:.4f}'.format(i, key, average_crib_values[key]))            "
   ]
  },
  {
   "cell_type": "code",
   "execution_count": 17,
   "metadata": {
    "ExecuteTime": {
     "end_time": "2018-07-01T15:09:51.547228Z",
     "start_time": "2018-07-01T15:09:51.353055Z"
    }
   },
   "outputs": [],
   "source": [
    "# dump the averages into a json file so we don't have to recalculate it every time\n",
    "with open('crib_discard.json', 'w') as fp:\n",
    "    json.dump(average_crib_values, fp, indent=4)"
   ]
  },
  {
   "cell_type": "code",
   "execution_count": 18,
   "metadata": {
    "ExecuteTime": {
     "end_time": "2018-07-01T15:09:51.705598Z",
     "start_time": "2018-07-01T15:09:51.551325Z"
    }
   },
   "outputs": [
    {
     "name": "stdout",
     "output_type": "stream",
     "text": [
      "Overall average crib points = 4.8762\n"
     ]
    }
   ],
   "source": [
    "print('Overall average crib points = {:.4f}'.format(sum(average_crib_values.values())/len(average_crib_values)))"
   ]
  },
  {
   "cell_type": "markdown",
   "metadata": {},
   "source": [
    "The values look good and are close to a few of the tables that I have laying around. Let us bring them all together in the next section."
   ]
  },
  {
   "cell_type": "code",
   "execution_count": 19,
   "metadata": {
    "ExecuteTime": {
     "end_time": "2018-07-01T15:09:51.836802Z",
     "start_time": "2018-07-01T15:09:51.710226Z"
    }
   },
   "outputs": [
    {
     "name": "stdout",
     "output_type": "stream",
     "text": [
      "[4♥, 6♥]\n",
      "['4♥', '6♥']\n",
      "[4♥, 6♥]\n",
      "<class 'str'>\n"
     ]
    }
   ],
   "source": [
    "# testing a way to make the dictionary key out of a list\n",
    "m = Hand([Card('4H'), Card('6H')])\n",
    "print(m)\n",
    "print(m.cool_display())\n",
    "\n",
    "key = str(m)\n",
    "print(key)\n",
    "print(type(key))\n"
   ]
  },
  {
   "cell_type": "markdown",
   "metadata": {},
   "source": [
    "# Expected Average\n",
    "\n",
    "For the dealer the expected average is the Average Hand Value + the Average Discard Value\n",
    "\n",
    "For the pone the expected average is the Average Hand Value - the Average Discard Value\n"
   ]
  },
  {
   "cell_type": "code",
   "execution_count": 20,
   "metadata": {
    "ExecuteTime": {
     "end_time": "2018-07-01T15:09:51.963330Z",
     "start_time": "2018-07-01T15:09:51.842810Z"
    }
   },
   "outputs": [],
   "source": [
    "hand = Hand([Card('4', 'C'),  Card('Q', 'C'), Card('A','C'), Card('A', 'D'), Card('5', 'D'), Card('Q', 'H')])\n",
    "deck = make_deck()\n",
    "\n",
    "for c in hand:\n",
    "    deck.remove(c)\n",
    "    "
   ]
  },
  {
   "cell_type": "markdown",
   "metadata": {},
   "source": [
    "## As Dealer\n",
    "\n",
    "As the dealer, we want to maximize the amount of points we have in our hand and in the crib. I think the best approach is to maximize the value of the hand as the crib, on average is only valued at about 4.88 points."
   ]
  },
  {
   "cell_type": "code",
   "execution_count": 21,
   "metadata": {
    "ExecuteTime": {
     "end_time": "2018-07-01T15:09:57.704728Z",
     "start_time": "2018-07-01T15:09:51.967733Z"
    }
   },
   "outputs": [
    {
     "name": "stdout",
     "output_type": "stream",
     "text": [
      "Candidate Hand = [A♣, A♦, 4♣, 5♦, Q♣, Q♥] \n",
      "\n",
      "---------\n",
      "Best Hand      = [A♣, A♦, 4♣, Q♣]\n",
      "Hand Value     = 6\n",
      "Average hand value = 8.4348\n",
      "Discard:  [5♦, Q♥]\n",
      "-------\n",
      "\n",
      "Average crib value                  = 6.9283\n",
      "Average crib value (pre-calculated) = 6.9634\n",
      "-------\n",
      "\n",
      "Expected Average - Dealer = 15.36304347826087\n",
      "Expected Average - Dealer = 15.398149955634427\n"
     ]
    }
   ],
   "source": [
    "print('Candidate Hand = {} '.format(hand.sorted()))\n",
    "print('')\n",
    "\n",
    "score, best_hand = determine_best_hand(hand,verbose=False)\n",
    "print('---------')\n",
    "print('Best Hand      = {}'.format(best_hand))\n",
    "print('Hand Value     = {}'.format(score))\n",
    "\n",
    "# find the average hand value\n",
    "hand_average = average_hand_value(deck, best_hand)\n",
    "print('Average hand value = {:.4f}'.format(hand_average))  \n",
    "\n",
    "discard = Hand(list(set(hand) - set(best_hand)))\n",
    "print('Discard: ', discard.sorted())\n",
    "print('-------')\n",
    "\n",
    "# find the average crib value. This takes into account flushes and all suits. \n",
    "# No simplification is made, the calculations are correct as far as I can tell.\n",
    "average_crib = average_crib_value(deck, discard, verbose=False)\n",
    "\n",
    "# in the cached dictionary of pre-calculated values suits where basically ignored \n",
    "# so the values will be slightly different then the other method\n",
    "# key = str([c.rank for c in discard])\n",
    "key = str(sorted([c.rank for c in discard]))\n",
    "average_crib_precalc = average_crib_values[key]\n",
    "\n",
    "print()\n",
    "print('Average crib value                  = {:.4f}'.format(average_crib))        \n",
    "print('Average crib value (pre-calculated) = {:.4f}'.format(average_crib_precalc))        \n",
    "print('-------')\n",
    "print()\n",
    "\n",
    "print('Expected Average - Dealer = {}'.format(hand_average + average_crib))\n",
    "print('Expected Average - Dealer = {}'.format(hand_average + average_crib_precalc))"
   ]
  },
  {
   "cell_type": "markdown",
   "metadata": {},
   "source": [
    "## As Pone\n",
    "\n",
    "The strategy for the pone is different. They want to maximize the average value of their hand while at the same time minimize the average value of the crib. This will take a little different strategy.\n"
   ]
  },
  {
   "cell_type": "code",
   "execution_count": 22,
   "metadata": {
    "ExecuteTime": {
     "end_time": "2018-07-01T15:10:03.265166Z",
     "start_time": "2018-07-01T15:09:57.707166Z"
    }
   },
   "outputs": [
    {
     "name": "stdout",
     "output_type": "stream",
     "text": [
      "Candidate Hand = [A♣, A♦, 4♣, 5♦, Q♣, Q♥] \n",
      "\n",
      "---------\n",
      "Best Hand      = [A♣, A♦, 4♣, Q♣]\n",
      "Hand Value     = 6\n",
      "Average hand value = 8.4348\n",
      "Discard:  [5♦, Q♥]\n",
      "-------\n",
      "\n",
      "Average crib value                  = 6.9283\n",
      "Average crib value (pre-calculated) = 6.9634\n",
      "-------\n",
      "\n",
      "Expected Average - Pone = 1.5065217391304353\n",
      "Expected Average - Pone = 1.471415261756877\n"
     ]
    }
   ],
   "source": [
    "print('Candidate Hand = {} '.format(hand.sorted()))\n",
    "print('')\n",
    "\n",
    "score, best_hand = determine_best_hand(hand,verbose=False)\n",
    "print('---------')\n",
    "print('Best Hand      = {}'.format(best_hand))\n",
    "print('Hand Value     = {}'.format(score))\n",
    "\n",
    "# find the average hand value\n",
    "hand_average = average_hand_value(deck, best_hand)\n",
    "print('Average hand value = {:.4f}'.format(hand_average))  \n",
    "\n",
    "discard = Hand(list(set(hand) - set(best_hand)))\n",
    "print('Discard: ', discard.sorted())\n",
    "print('-------')\n",
    "\n",
    "# find the average crib value. This takes into account flushes and all suits. \n",
    "# No simplification is made, the calculations are correct as far as I can tell.\n",
    "average_crib = average_crib_value(deck, discard, verbose=False)\n",
    "\n",
    "# in the cached dictionary of pre-calculated values suits where basically ignored \n",
    "# so the values will be slightly different then the other method\n",
    "# key = str([c.rank for c in discard])\n",
    "key = str(sorted([c.rank for c in discard]))\n",
    "average_crib_precalc = average_crib_values[key]\n",
    "\n",
    "print()\n",
    "print('Average crib value                  = {:.4f}'.format(average_crib))        \n",
    "print('Average crib value (pre-calculated) = {:.4f}'.format(average_crib_precalc))        \n",
    "print('-------')\n",
    "print()\n",
    "\n",
    "print('Expected Average - Pone = {}'.format(hand_average - average_crib))\n",
    "print('Expected Average - Pone = {}'.format(hand_average - average_crib_precalc))"
   ]
  },
  {
   "cell_type": "markdown",
   "metadata": {},
   "source": [
    "Maximizing the value of the pone's hand doesn't yield an optimal strategy for the pone overall. In the above case it looks as though the pone can only expect about 1.5 points on average even though the hand value is 8.4! We need a different strategy to minimize the loss in points.\n",
    "\n",
    "----"
   ]
  },
  {
   "cell_type": "code",
   "execution_count": 23,
   "metadata": {
    "ExecuteTime": {
     "end_time": "2018-07-01T15:10:03.274044Z",
     "start_time": "2018-07-01T15:10:03.267556Z"
    }
   },
   "outputs": [],
   "source": [
    "def four_card_hand_scores(hand, **kwargs):\n",
    "    \"\"\"\n",
    "    Takes a hand of more than 4 cards and returns a list containing \n",
    "    every 4 card hand combination along with the point value, point value dictionary and\n",
    "    a counts dictionary outlining the number of matches for the point value dictionary.\n",
    "            \n",
    "    \"\"\"\n",
    "    hands = []\n",
    "    \n",
    "    for combo in hand.every_combination(count=4):\n",
    "        new_hand = Hand(combo).sorted()        \n",
    "        \n",
    "        # we are only dealing with 4 cards, ignoring a cut card\n",
    "        scores, counts = score_hand(new_hand, None) \n",
    "        score = sum(scores.values())\n",
    "        \n",
    "        hands.append((new_hand, score, scores, counts))\n",
    "    \n",
    "    return hands"
   ]
  },
  {
   "cell_type": "code",
   "execution_count": 24,
   "metadata": {
    "ExecuteTime": {
     "end_time": "2018-07-01T15:10:03.476145Z",
     "start_time": "2018-07-01T15:10:03.277569Z"
    }
   },
   "outputs": [],
   "source": [
    "def average_hand_values(deck, hands, **kwargs):\n",
    "    \"\"\"\n",
    "    Calculates the average value for the hands.\n",
    "    \n",
    "    Parameters\n",
    "    ----------\n",
    "    deck - the cards left unturned as far as the person (pone or dealer) \n",
    "           that are used to calculate the average hand value. \n",
    "    \n",
    "    hands - tuple(Hand, number, dictionary, dictionary) - the list of hands to evaluate \n",
    "            the average values for.\n",
    "            \n",
    "    Returns\n",
    "    -------\n",
    "    a list of tuples similar to the input list of tuples that contain the hand,\n",
    "    the value of the hand and the average value.\n",
    "    \n",
    "    \"\"\"\n",
    "    \n",
    "    assert len(deck) == 46\n",
    "\n",
    "    average_hands = []\n",
    "    for hand_tuple in hands:\n",
    "        hand, hand_value, *_ = hand_tuple\n",
    "        average_value = average_hand_value(deck, hand)\n",
    "    \n",
    "        average_hands.append((hand, hand_value, average_value))\n",
    "    \n",
    "    return average_hands"
   ]
  },
  {
   "cell_type": "code",
   "execution_count": 25,
   "metadata": {
    "ExecuteTime": {
     "end_time": "2018-07-01T15:10:03.657883Z",
     "start_time": "2018-07-01T15:10:03.480630Z"
    }
   },
   "outputs": [],
   "source": [
    "def average_discard_values(hand, average_hands, **kwargs):\n",
    "    \n",
    "    average_discards = []\n",
    "    for i, a in enumerate(average_hands):\n",
    "        average_hand, value, average = a\n",
    "        discard = list(set(hand) - set(average_hand))\n",
    "    #     average_crib = average_crib_value(deck, discard, verbose=False)\n",
    "\n",
    "        try:\n",
    "\n",
    "            key = str(sorted([c.rank for c in discard]))\n",
    "            average_crib_precalc = average_crib_values[key]\n",
    "\n",
    "        except KeyError:        \n",
    "            key = str(sorted([c.rank for c in discard], reverse=True))\n",
    "            average_crib_precalc = average_crib_values[key]\n",
    "\n",
    "        average_discards.append((average_hand, \n",
    "                                 value, \n",
    "                                 average, \n",
    "                                 discard,\n",
    "                                 average_crib_precalc))\n",
    "        \n",
    "    return average_discards"
   ]
  },
  {
   "cell_type": "code",
   "execution_count": 26,
   "metadata": {
    "ExecuteTime": {
     "end_time": "2018-07-01T15:10:04.075443Z",
     "start_time": "2018-07-01T15:10:03.662617Z"
    }
   },
   "outputs": [
    {
     "name": "stdout",
     "output_type": "stream",
     "text": [
      "0   [A♣, 4♣, 5♦, Q♣] = 4 -> Average = 7.0000 - Discard = [A♦, Q♥] -> Average = 3.8951 -> EA = 3.1049\n",
      "1   [A♦, 4♣, 5♦, Q♣] = 4 -> Average = 7.0000 - Discard = [A♣, Q♥] -> Average = 3.8951 -> EA = 3.1049\n",
      "2   [A♣, 4♣, 5♦, Q♥] = 4 -> Average = 7.0000 - Discard = [A♦, Q♣] -> Average = 3.8951 -> EA = 3.1049\n",
      "3   [A♦, 4♣, 5♦, Q♥] = 4 -> Average = 7.0000 - Discard = [A♣, Q♣] -> Average = 3.8951 -> EA = 3.1049\n",
      "4   [A♣, A♦, 5♦, Q♣] = 4 -> Average = 6.0870 - Discard = [4♣, Q♥] -> Average = 4.0782 -> EA = 2.0087\n",
      "5   [A♣, A♦, 5♦, Q♥] = 4 -> Average = 6.0870 - Discard = [4♣, Q♣] -> Average = 4.0782 -> EA = 2.0087\n",
      "6   [A♣, A♦, 4♣, 5♦] = 2 -> Average = 6.0435 - Discard = [Q♥, Q♣] -> Average = 5.2502 -> EA = 0.7933\n",
      "7   [A♣, 5♦, Q♣, Q♥] = 6 -> Average = 7.6957 - Discard = [4♣, A♦] -> Average = 5.5085 -> EA = 2.1871\n",
      "8   [A♦, 5♦, Q♣, Q♥] = 6 -> Average = 7.6957 - Discard = [4♣, A♣] -> Average = 5.5085 -> EA = 2.1871\n",
      "9   [4♣, 5♦, Q♣, Q♥] = 6 -> Average = 8.1739 - Discard = [A♦, A♣] -> Average = 5.5335 -> EA = 2.6404\n",
      "10  [A♣, 4♣, Q♣, Q♥] = 6 -> Average = 7.6957 - Discard = [A♦, 5♦] -> Average = 5.7722 -> EA = 1.9234\n",
      "11  [A♦, 4♣, Q♣, Q♥] = 6 -> Average = 7.6957 - Discard = [A♣, 5♦] -> Average = 5.7722 -> EA = 1.9234\n",
      "12  [A♣, A♦, 4♣, Q♣] = 6 -> Average = 8.4348 - Discard = [Q♥, 5♦] -> Average = 6.9634 -> EA = 1.4714\n",
      "13  [A♣, A♦, 4♣, Q♥] = 6 -> Average = 8.4348 - Discard = [5♦, Q♣] -> Average = 6.9634 -> EA = 1.4714\n",
      "14  [A♣, A♦, Q♣, Q♥] = 4 -> Average = 5.4783 - Discard = [4♣, 5♦] -> Average = 7.0352 -> EA = -1.5569\n"
     ]
    }
   ],
   "source": [
    "hands = sorted(four_card_hand_scores(hand), key=lambda x:x[1], reverse=True)\n",
    "average_hands = sorted(average_hand_values(deck, hands), key=lambda x:x[2], reverse=True)\n",
    "average_discards = sorted(average_discard_values(hand, average_hands), key=lambda x:x[4])\n",
    "   \n",
    "row = '{:<3} {} = {} -> Average = {:.4f} - Discard = {} -> Average = {:.4f} -> EA = {:.4f}'\n",
    "for i, ad in enumerate(average_discards):    \n",
    "    print(row.format(i,*ad, ad[2] - ad[4]))"
   ]
  },
  {
   "cell_type": "markdown",
   "metadata": {
    "ExecuteTime": {
     "end_time": "2018-02-19T17:55:36.831345Z",
     "start_time": "2018-02-19T17:55:36.818290Z"
    }
   },
   "source": [
    "By minimizing the average points discarded to the crib, we maximize our expected average points for the hand."
   ]
  }
 ],
 "metadata": {
  "kernelspec": {
   "display_name": "Python 3",
   "language": "python",
   "name": "python3"
  },
  "language_info": {
   "codemirror_mode": {
    "name": "ipython",
    "version": 3
   },
   "file_extension": ".py",
   "mimetype": "text/x-python",
   "name": "python",
   "nbconvert_exporter": "python",
   "pygments_lexer": "ipython3",
   "version": "3.9.5"
  },
  "widgets": {
   "state": {},
   "version": "1.0.0"
  }
 },
 "nbformat": 4,
 "nbformat_minor": 1
}
